{
 "cells": [
  {
   "cell_type": "markdown",
   "source": [
    "## 01 写第一个C++程序"
   ],
   "metadata": {}
  },
  {
   "cell_type": "code",
   "execution_count": 1,
   "source": [
    "int main() {\n",
    "    \n",
    "}"
   ],
   "outputs": [],
   "metadata": {}
  },
  {
   "cell_type": "markdown",
   "source": [
    "## 02 C++输出信息\n",
    "\n",
    "#include <iostream>\n",
    "using std::cout;\n",
    "\n",
    "int main() {\n",
    "    cout << \"Hello C++ World!\" << \"\\n\";   \n",
    "}\n",
    "    \n",
    "\n",
    "- #include <iostream>\n",
    "\n",
    "    #include 是在编译代码之前执行的预处理器命令。它搜索 iostream库头文件并将其内容粘贴到程序中。 iostream 包含输入/输出流对象的声明。\n",
    "\n",
    "- using std::cout;\n",
    "\n",
    "    命名空间是 C++ 中将标识符（名称）组合在一起的一种方式。它们为标识符提供上下文以避免命名冲突。 std 命名空间是用于标准库的命名空间。\n",
    "\n",
    "    using 命令将 std::cout 添加到程序的全局范围。这样就可以在代码中使用 cout，而不必写 std::cout。\n",
    "\n",
    "    cout 是一个输出流，用于将信息输出发送到笔记本或终端。\n",
    "    \n",
    "    示例中的后两行以分号“; ”结尾。在 C++ 中，代码语句以分号结尾。 #include 语句是一个预处理器命令，因此它不需要分号。\n",
    "    \n",
    "- cout << “Hello C++ World!” << \"\\n\";\n",
    "\n",
    "    在这一行中，代码使用 cout 将信息输出发送到笔记本。 “<<” 运算符是流插入运算符，它将运算符右侧的内容写入左侧。所以在这种情况下，“Message here”被写入输出流 cout。"
   ],
   "metadata": {}
  },
  {
   "cell_type": "code",
   "execution_count": 2,
   "source": [
    "#include <iostream>\n",
    "using std::cout;\n"
   ],
   "outputs": [],
   "metadata": {}
  },
  {
   "cell_type": "code",
   "execution_count": 3,
   "source": [
    "cout << \"Hello C++ World!\" << \"\\n\"; // 在xeus-cling jupyternotebook环境里不用写整个main（）函数，否则会报error: function definition is not allowed here int main() {"
   ],
   "outputs": [
    {
     "output_type": "stream",
     "name": "stdout",
     "text": [
      "Hello C++ World!\n"
     ]
    },
    {
     "output_type": "execute_result",
     "data": {
      "text/plain": [
       "@0x7f97517bdba0"
      ]
     },
     "metadata": {},
     "execution_count": 3
    }
   ],
   "metadata": {}
  },
  {
   "cell_type": "markdown",
   "source": [
    "## 03 储存基本类型数据"
   ],
   "metadata": {}
  },
  {
   "cell_type": "code",
   "execution_count": 4,
   "source": [
    "#include <string>\n",
    "\n",
    "//申明并初始化一个整数变量\n",
    "int a = 1 ;\n",
    "\n",
    "//声明并初始化一个字符串变量\n",
    "std::string b ;\n",
    "b = \"Here is a string\" ;\n",
    "\n",
    "cout << a << \"\\n\" ;\n",
    "cout << b << \"\\n\" ;"
   ],
   "outputs": [
    {
     "output_type": "stream",
     "name": "stdout",
     "text": [
      "1\n",
      "Here is a string\n"
     ]
    }
   ],
   "metadata": {}
  },
  {
   "cell_type": "markdown",
   "source": [
    "## 04 储存向量（vector）数据"
   ],
   "metadata": {}
  },
  {
   "cell_type": "code",
   "execution_count": 5,
   "source": [
    "#include <vector>\n",
    "using std::vector ;\n",
    "\n",
    "//声明并初始化一维向量(3种方法）\n",
    "vector<int> v1{0,1,2};\n",
    "vector<int> v2 = {3,4,5};\n",
    "vector<int> v3;\n",
    "v3 = {6,7,8};\n",
    "cout << \"1d initial ok\"<<\"\\n\";\n",
    "cout << v1[2] << \"\\n\";\n",
    "cout << v2[0] << \"\\n\";\n",
    "cout << v3[1] << \"\\n\";\n",
    "\n",
    "//声明并初始化二维向量\n",
    "vector<vector<int>> v2d {{1,2,3},{7,8,9}};\n",
    "cout << \"2d initial ok\" << \"\\n\";\n",
    "cout << v2d[1][1] << \"\\n\";\n"
   ],
   "outputs": [
    {
     "output_type": "stream",
     "name": "stdout",
     "text": [
      "1d initial ok\n",
      "2\n",
      "3\n",
      "7\n",
      "2d initial ok\n",
      "8\n"
     ]
    }
   ],
   "metadata": {}
  },
  {
   "cell_type": "markdown",
   "source": [
    "## 05 使用关键字auto自动确定类型\n",
    "\n",
    "在之前的代码中，显式声明了每个变量的类型。\n",
    "一般来说，这不是必须的，编译器可以根据被赋值的值来确定类型。\n",
    "可以使用 auto 关键字自动确定类型。执行以下单元格来测试："
   ],
   "metadata": {}
  },
  {
   "cell_type": "code",
   "execution_count": 6,
   "source": [
    "auto i = 5;\n",
    "auto v_6 = {1, 2, 3,7,8,9};\n",
    "cout << \"Variables declared and initialized without explicitly stating type!\" << \"\\n\";\n",
    "\n",
    "for (auto i :v_6){ // i属于向量v_6里的元素\n",
    "    cout << i << \" \";\n",
    "}\n",
    "    cout << \"\\n\";"
   ],
   "outputs": [
    {
     "output_type": "stream",
     "name": "stdout",
     "text": [
      "Variables declared and initialized without explicitly stating type!\n",
      "1 2 3 7 8 9 \n"
     ]
    }
   ],
   "metadata": {}
  },
  {
   "cell_type": "markdown",
   "source": [
    "## 06 使用向量（vector）类型储存网格（grid）数据"
   ],
   "metadata": {}
  },
  {
   "cell_type": "code",
   "execution_count": 7,
   "source": [
    "// 声明并初始化一个二维向量类型变量\n",
    "vector<vector<int>> board = {{0,1,0,0,0,0},\n",
    "                            {0,1,0,0,0,0},\n",
    "                            {0,1,0,0,0,0},\n",
    "                            {0,1,0,0,0,0},\n",
    "                            {0,0,0,0,1,0}};"
   ],
   "outputs": [],
   "metadata": {}
  },
  {
   "cell_type": "code",
   "execution_count": 8,
   "source": [
    "// 向量基本操作-输出向量元素\n",
    "vector<int> v = {1, 2, 3,7,8,9};\n",
    "cout << v[0] << \"\\n\";\n",
    "cout << v[3] << \"\\n\";\n",
    "cout << board[4][4] << \"\\n\";\n",
    "    \n",
    "// 向量基本操作—输出向量尺寸\n",
    "cout << v.size() << \"\\n\";\n",
    "cout << board.size() << \"X\" << board[0].size() << \"\\n\"; // board.size()取得行row,board[0].size()取得列col\n"
   ],
   "outputs": [
    {
     "output_type": "stream",
     "name": "stdout",
     "text": [
      "1\n",
      "7\n",
      "1\n",
      "6\n",
      "5X6\n"
     ]
    },
    {
     "output_type": "execute_result",
     "data": {
      "text/plain": [
       "@0x7f97517bdba0"
      ]
     },
     "metadata": {},
     "execution_count": 8
    }
   ],
   "metadata": {}
  },
  {
   "cell_type": "markdown",
   "source": [
    "## 07 For循环\n",
    "- 基于索引变量的For循环\n",
    " -- 递增运算符“++”\n",
    " -- 递减运算符“--”\n",
    "- 基于范围容器的For循环"
   ],
   "metadata": {}
  },
  {
   "cell_type": "code",
   "execution_count": 9,
   "source": [
    "// 基于索引变量的For循环\n",
    "for (int i=0; i<5; i++){\n",
    "    cout << \"The i is :\" << i << \"\\n\";\n",
    "}\n",
    "\n",
    "// 递增运算符“++”（两种方式：后增post-increment和前增pre-increment）\n",
    "// 后增post-increment 先赋值再递增\n",
    "auto i = 1 ;\n",
    "auto c = i++ ;\n",
    "cout << \"post-increment\" << \"\\n\";\n",
    "cout << \"The value of c is: \" << c << \"\\n\";\n",
    "cout << \"The value of i is: \" << i << \"\\n\";\n",
    "\n",
    "// 前增pre-increment 先递增再赋值\n",
    "i = 1 ;\n",
    "c = ++ i ;\n",
    "cout << \"pre-increment\" << \"\\n\";\n",
    "cout << \"The value of c is: \" << c << \"\\n\";\n",
    "cout << \"The value of i is: \" << i << \"\\n\";\n",
    "\n",
    "// 递减运算符“--” 同递增性质\n",
    "i = 5 ;\n",
    "i-- ;\n",
    "cout << \"decrement\" << \"\\n\";\n",
    "cout << \"The value of i is: \" << i << \"\\n\";"
   ],
   "outputs": [
    {
     "output_type": "stream",
     "name": "stdout",
     "text": [
      "The i is :0\n",
      "The i is :1\n",
      "The i is :2\n",
      "The i is :3\n",
      "The i is :4\n",
      "post-increment\n",
      "The value of c is: 1\n",
      "The value of i is: 2\n",
      "pre-increment\n",
      "The value of c is: 2\n",
      "The value of i is: 2\n",
      "decrement\n",
      "The value of i is: 4\n"
     ]
    }
   ],
   "metadata": {}
  },
  {
   "cell_type": "code",
   "execution_count": 10,
   "source": [
    "//基于范围容器的For循环\n",
    "vector<int> a = {1,2,3,4,5};\n",
    "\n",
    "for (int i: a){\n",
    "    cout << i << \"\\n\";\n",
    "}"
   ],
   "outputs": [
    {
     "output_type": "stream",
     "name": "stdout",
     "text": [
      "1\n",
      "2\n",
      "3\n",
      "4\n",
      "5\n"
     ]
    }
   ],
   "metadata": {}
  },
  {
   "cell_type": "markdown",
   "source": [
    "## 08 函数\n"
   ],
   "metadata": {}
  },
  {
   "cell_type": "code",
   "execution_count": 11,
   "source": [
    "// 写一个打印字符串函数\n",
    "/*void PrintStrings(string a, string b)\n",
    "{\n",
    "    cout << a << \" \" << b << \"\\n\";\n",
    "}\n",
    "这是一个完整的函数，函数类型void，两个字符串参数，函数执行连续打印两个字符串参数的动作，\n",
    "函数可以一次性声明并定义，但通常需先声明函数，然后再定义函数功能。\n",
    "*/\n",
    "\n",
    "#include <string>\n",
    "using std::string;\n",
    "\n",
    "// 先申明函数\n",
    "void PrintStrings(string a, string b);\n"
   ],
   "outputs": [],
   "metadata": {}
  },
  {
   "cell_type": "code",
   "execution_count": 12,
   "source": [
    "// 完整定义函数\n",
    "void PrintStrings(string a, string b){\n",
    "    cout << a << \" \" << b << \"\\n\";\n",
    "}\n",
    "\n",
    "// 传入变量值\n",
    "string s1 = \"C++ is\";\n",
    "string s2 = \"super awesome.\";\n",
    "\n",
    "PrintStrings(s1, s2);"
   ],
   "outputs": [
    {
     "output_type": "stream",
     "name": "stdout",
     "text": [
      "C++ is super awesome.\n"
     ]
    }
   ],
   "metadata": {}
  },
  {
   "cell_type": "code",
   "execution_count": 13,
   "source": [
    "// 写一个加法函数\n",
    "// 申明加法函数\n",
    "int AdditionFunction(int i, int j);"
   ],
   "outputs": [],
   "metadata": {}
  },
  {
   "cell_type": "code",
   "execution_count": 14,
   "source": [
    "// 完整定义加法函数并测试\n",
    "int AdditionFunction(int i, int j){\n",
    "    return i + j ;\n",
    "}\n",
    "\n",
    "auto d = 3 ;\n",
    "auto f = 7 ;\n",
    "\n",
    "cout << AdditionFunction(d, f) << \"\\n\";\n"
   ],
   "outputs": [
    {
     "output_type": "stream",
     "name": "stdout",
     "text": [
      "10\n"
     ]
    }
   ],
   "metadata": {}
  },
  {
   "cell_type": "code",
   "execution_count": 15,
   "source": [
    "// 写一个向量加法函数\n",
    "// 声明向量加法函数\n",
    "int AdditionFunction(vector<int> v);"
   ],
   "outputs": [],
   "metadata": {}
  },
  {
   "cell_type": "code",
   "execution_count": 16,
   "source": [
    "// 完整定义向量加法函数并测试\n",
    "int AdditionFunction(vector<int> v){\n",
    "    int sum = 0 ;\n",
    "    for (int num: v){\n",
    "        sum += num ;\n",
    "    }\n",
    "    return sum ;\n",
    "}\n",
    "\n",
    "vector<int> v {1,2,3};\n",
    "cout << AdditionFunction(v) << \"\\n\";\n"
   ],
   "outputs": [
    {
     "output_type": "stream",
     "name": "stdout",
     "text": [
      "6\n"
     ]
    }
   ],
   "metadata": {}
  },
  {
   "cell_type": "code",
   "execution_count": 17,
   "source": [
    "// 写一个函数打印出二维向量网格\n",
    "// 声明函数\n",
    "void PrintBoard(vector<vector<int>> board);\n"
   ],
   "outputs": [],
   "metadata": {}
  },
  {
   "cell_type": "code",
   "execution_count": 18,
   "source": [
    "// 完整定义函数并测试函数\n",
    "void PrintBoard(vector<vector<int>> board){\n",
    "    int row = board.size();\n",
    "    int col = board[0].size();\n",
    "    \n",
    "    for(int i=0; i<row; i++){\n",
    "        for(int j=0; j<col; j++)\n",
    "            cout << board[i][j];\n",
    "            cout << \"\\n\";\n",
    "    }\n",
    "}\n",
    "\n",
    "vector<vector<int>> board{{0, 1, 0, 0, 0, 0},\n",
    "                          {0, 1, 0, 0, 0, 0},\n",
    "                          {0, 1, 0, 0, 0, 0},\n",
    "                          {0, 1, 0, 0, 0, 0},\n",
    "                          {0, 0, 0, 0, 1, 0}};\n",
    "\n",
    "PrintBoard(board);\n"
   ],
   "outputs": [
    {
     "output_type": "stream",
     "name": "stdout",
     "text": [
      "010000\n",
      "010000\n",
      "010000\n",
      "010000\n",
      "000010\n"
     ]
    }
   ],
   "metadata": {}
  },
  {
   "cell_type": "markdown",
   "source": [
    "## 09 If条件判断和While循环\n"
   ],
   "metadata": {}
  },
  {
   "cell_type": "code",
   "execution_count": 19,
   "source": [
    "// 在 C++ 中，布尔条件包含在括号 ( ) 中，语句主体包含在大括号 { } 中。\n",
    "\n",
    "bool a= true ;\n",
    "\n",
    "if (a) {\n",
    "    cout << \"Hooray! You made it into the if statement!\" << \"\\n\" ;\n",
    "}"
   ],
   "outputs": [
    {
     "output_type": "stream",
     "name": "stdout",
     "text": [
      "Hooray! You made it into the if statement!\n"
     ]
    }
   ],
   "metadata": {}
  },
  {
   "cell_type": "code",
   "execution_count": 20,
   "source": [
    "// while 循环的语法与 if 语句的语法非常相似\n",
    "\n",
    "auto i = 0;\n",
    "\n",
    "while (i < 5 ) {\n",
    "    cout << i << \"\\n\";\n",
    "    i++;\n",
    "}"
   ],
   "outputs": [
    {
     "output_type": "stream",
     "name": "stdout",
     "text": [
      "0\n",
      "1\n",
      "2\n",
      "3\n",
      "4\n"
     ]
    }
   ],
   "metadata": {}
  },
  {
   "cell_type": "code",
   "execution_count": 21,
   "source": [
    "// while 循环和if 语句搭配使用打印偶数。\n",
    "// 对于给定的 int i，i % 2取余数，如果结果为0则i为偶数。\n",
    "\n",
    "int i = 1;\n",
    "\n",
    "while (i <=10 ){\n",
    "    if (i % 2 == 0){\n",
    "        cout << i << \"\\n\";\n",
    "    }\n",
    "    i++ ;\n",
    "}"
   ],
   "outputs": [
    {
     "output_type": "stream",
     "name": "stdout",
     "text": [
      "2\n",
      "4\n",
      "6\n",
      "8\n",
      "10\n"
     ]
    }
   ],
   "metadata": {}
  },
  {
   "cell_type": "markdown",
   "source": [
    "## 10 文件读取\n",
    "\n",
    "读取文件的四个步骤：\n",
    "\n",
    "- 1.#include <fstream> 库\n",
    "- 2.使用文件路径创建一个 std::ifstream 流对象。\n",
    "- 3.将 std::ifstream 对象评估为 bool 以确保流对象创建成功。\n",
    "- 4.使用带有 getline（） 的 while 循环将文件行写入字符串。"
   ],
   "metadata": {}
  },
  {
   "cell_type": "markdown",
   "source": [
    "#### 写文件打开测试函数"
   ],
   "metadata": {}
  },
  {
   "cell_type": "code",
   "execution_count": 22,
   "source": [
    "// 添加文件处理库\n",
    "#include <fstream>"
   ],
   "outputs": [],
   "metadata": {}
  },
  {
   "cell_type": "code",
   "execution_count": 23,
   "source": [
    "// 声明文件打开测试函数\n",
    "void file_open_testing();"
   ],
   "outputs": [],
   "metadata": {}
  },
  {
   "cell_type": "code",
   "execution_count": 24,
   "source": [
    "// 定义完整函数并测试\n",
    "void file_open_testing(){\n",
    "    // 创建std::ifstream流对象\n",
    "    std::ifstream my_file;\n",
    "    my_file.open(\"files/1.board\");\n",
    "    \n",
    "    if (my_file){\n",
    "        cout << \"we have this file\" << \"\\n\";\n",
    "    }else{\n",
    "        cout << \"we don't have this file\" << \"\\n\";\n",
    "    }\n",
    "}\n",
    "\n",
    "file_open_testing();\n"
   ],
   "outputs": [
    {
     "output_type": "stream",
     "name": "stdout",
     "text": [
      "we have this file\n"
     ]
    }
   ],
   "metadata": {}
  },
  {
   "cell_type": "markdown",
   "source": [
    "#### 完整文件数据读取函数"
   ],
   "metadata": {}
  },
  {
   "cell_type": "code",
   "execution_count": 25,
   "source": [
    "// 声明读数据函数\n",
    "void reading_data_from_stream();"
   ],
   "outputs": [],
   "metadata": {}
  },
  {
   "cell_type": "code",
   "execution_count": 26,
   "source": [
    "// 定义读数据函数并测试\n",
    "void reading_data_from_stream(){\n",
    "    std::ifstream my_file(\"./files/1.board\");\n",
    "    \n",
    "    if (my_file) {\n",
    "        cout << \"The file stream has been created!\" << \"\\n\";\n",
    "        \n",
    "        std::string line;\n",
    "        while (getline(my_file, line)){\n",
    "            cout << line << \"\\n\";\n",
    "        }\n",
    "    }\n",
    "}\n",
    "\n",
    "reading_data_from_stream();"
   ],
   "outputs": [
    {
     "output_type": "stream",
     "name": "stdout",
     "text": [
      "The file stream has been created!\n",
      "0,1,0,0,0,0,\n",
      "0,1,0,0,0,0,\n",
      "0,1,0,0,0,0,\n",
      "0,1,0,0,0,0,\n",
      "0,0,0,0,1,0,\n"
     ]
    }
   ],
   "metadata": {}
  },
  {
   "cell_type": "markdown",
   "source": [
    "#### 写通用文件数据读取函数"
   ],
   "metadata": {}
  },
  {
   "cell_type": "code",
   "execution_count": 27,
   "source": [
    "//使用更好的方式重写读取board文件函数\n",
    "// 声明函数\n",
    "void ReadBoardFile(string file_path);\n"
   ],
   "outputs": [],
   "metadata": {}
  },
  {
   "cell_type": "code",
   "execution_count": 28,
   "source": [
    "// 先初始化变量file_path\n",
    "string file_path = \" \" ;"
   ],
   "outputs": [],
   "metadata": {}
  },
  {
   "cell_type": "code",
   "execution_count": 29,
   "source": [
    "// 定义完整函数并测试\n",
    "void ReadBoardFile(string file_path){\n",
    "    std::ifstream board_file(file_path) ;\n",
    "    \n",
    "    if (board_file){\n",
    "        \n",
    "        string line;\n",
    "        while (getline(board_file, line)){\n",
    "            cout << line << \"\\n\";\n",
    "        }\n",
    "    }else{\n",
    "        cout << \"no such file \" << file_path << \"\\n\" ;\n",
    "    }\n",
    "}\n",
    "\n",
    "string file_path = \"./files/1.board\";\n",
    "ReadBoardFile(file_path);\n"
   ],
   "outputs": [
    {
     "output_type": "stream",
     "name": "stdout",
     "text": [
      "0,1,0,0,0,0,\n",
      "0,1,0,0,0,0,\n",
      "0,1,0,0,0,0,\n",
      "0,1,0,0,0,0,\n",
      "0,0,0,0,1,0,\n"
     ]
    }
   ],
   "metadata": {}
  },
  {
   "cell_type": "markdown",
   "source": [
    "## 11 文件字符串处理\n",
    "\n",
    "在 C++ 中，字符串可以流式传输到临时变量中，类似于如何将文件流式传输为字符串。流式传输字符串允许我们单独处理每个字符。\n",
    "\n",
    "流式传输字符串的一种方法是使用来自 <sstream> 头文件的 istringstream输入字符串流对象。\n",
    "\n",
    "一旦创建了 istringstream 对象，部分字符串可以使用提取运算符“>>”进行流式传输和存储。提取运算符将一直读取直到到达空格或直到流失败。\n",
    "\n",
    "istringstream 对象是一个指针，指向字符串容器，如果当前指针 READ(>>) 非数字或错误或结束文件将返回错误或 0 或 false。每次提取一个容器时，istringstream 对象都会向右移动到下一个容器。\n",
    "    "
   ],
   "metadata": {}
  },
  {
   "cell_type": "code",
   "execution_count": 30,
   "source": [
    "// 添加<sstream>库\n",
    "#include <sstream>\n",
    "using std::istringstream;\n"
   ],
   "outputs": [],
   "metadata": {}
  },
  {
   "cell_type": "markdown",
   "source": [
    "#### 提取字符串整数函数基本功能测试"
   ],
   "metadata": {}
  },
  {
   "cell_type": "code",
   "execution_count": 31,
   "source": [
    "// 声明函数\n",
    "void istringstream_test ();"
   ],
   "outputs": [],
   "metadata": {}
  },
  {
   "cell_type": "code",
   "execution_count": 32,
   "source": [
    "// 定义函数体并测试\n",
    "void istringstream_test(){\n",
    "    cout << __func__ << \"\\n\"; //打印自身函数名\n",
    "    string a(\"1 2 3\");\n",
    "    istringstream my_stream(a) ;\n",
    "    \n",
    "    int n ;\n",
    "    my_stream >> n;\n",
    "    cout << n << \"\\n\";\n",
    "}\n",
    "\n",
    "istringstream_test();"
   ],
   "outputs": [
    {
     "output_type": "stream",
     "name": "stdout",
     "text": [
      "istringstream_test\n",
      "1\n"
     ]
    }
   ],
   "metadata": {}
  },
  {
   "cell_type": "markdown",
   "source": [
    "#### 提取字符串整数函数完整实现"
   ],
   "metadata": {}
  },
  {
   "cell_type": "code",
   "execution_count": 33,
   "source": [
    "// 声明函数\n",
    "void use_istringstream_as_boolen_read_all();"
   ],
   "outputs": [],
   "metadata": {}
  },
  {
   "cell_type": "code",
   "execution_count": 34,
   "source": [
    "// 定义函数并测试\n",
    "void use_istringstream_as_boolen_read_all(){\n",
    "    cout << __func__ << \"\\n\";\n",
    "    string a(\"1 2 3\");\n",
    "    istringstream my_stream(a);\n",
    "    \n",
    "    int n;\n",
    "    while (my_stream) {\n",
    "        my_stream >> n ;\n",
    "        if (my_stream) {\n",
    "            cout << \"That stream was successful: \" << n << \"\\n\";\n",
    "        }else{\n",
    "            cout << \"That stream was NOT successful!\" << \"\\n\";\n",
    "        }\n",
    "    }\n",
    "}\n",
    "\n",
    "use_istringstream_as_boolen_read_all();\n"
   ],
   "outputs": [
    {
     "output_type": "stream",
     "name": "stdout",
     "text": [
      "use_istringstream_as_boolen_read_all\n",
      "That stream was successful: 1\n",
      "That stream was successful: 2\n",
      "That stream was successful: 3\n",
      "That stream was NOT successful!\n"
     ]
    }
   ],
   "metadata": {}
  },
  {
   "cell_type": "markdown",
   "source": [
    "#### 提取字符串整数函数优化"
   ],
   "metadata": {}
  },
  {
   "cell_type": "code",
   "execution_count": 35,
   "source": [
    "// 声明函数\n",
    "void common_way_to_use_istringstream_in_while() ;"
   ],
   "outputs": [],
   "metadata": {}
  },
  {
   "cell_type": "code",
   "execution_count": 36,
   "source": [
    "// 定义函数并测试\n",
    "void common_way_to_use_istringstream_in_while(){\n",
    "    cout << __func__ << \"\\n\";\n",
    "    istringstream myreader(\"4 5   6\");\n",
    "    \n",
    "    int n;\n",
    "    while (myreader >> n){\n",
    "        cout << \"read: \" << n << \"\\n\";\n",
    "    }\n",
    "    cout << \"The stream has failed or ended.\" << \"\\n\" ;\n",
    "}\n",
    "\n",
    "common_way_to_use_istringstream_in_while();\n"
   ],
   "outputs": [
    {
     "output_type": "stream",
     "name": "stdout",
     "text": [
      "common_way_to_use_istringstream_in_while\n",
      "read: 4\n",
      "read: 5\n",
      "read: 6\n",
      "The stream has failed or ended.\n"
     ]
    }
   ],
   "metadata": {}
  },
  {
   "cell_type": "markdown",
   "source": [
    "#### 提取字符串混合类型数据函数实现"
   ],
   "metadata": {}
  },
  {
   "cell_type": "code",
   "execution_count": 37,
   "source": [
    "// 声明函数\n",
    "void string_with_mix_types_not_space();"
   ],
   "outputs": [],
   "metadata": {}
  },
  {
   "cell_type": "code",
   "execution_count": 38,
   "source": [
    "// 定义函数并测试\n",
    "void string_with_mix_types_not_space(){\n",
    "    cout << __func__ << \"\\n\";\n",
    "    string b(\"1,2,3,4,5,6q7p8o9\");\n",
    "    istringstream mixstring(b);\n",
    "    \n",
    "    char c ;\n",
    "    int n ;\n",
    "    \n",
    "    while (mixstring >> n >> c){ \n",
    "        cout << \"read int: \" << n << \",read char: \" << c << \"\\n\";\n",
    "    }\n",
    "    cout << \"The stream has failed or ended.\" << \"\\n\";\n",
    "}\n",
    "/* mixstring >> n >> c\n",
    "此命令格式将会按照 一个整数后跟一个字符的形式读取，9后面没有字符因此会跳出循环,因此不会打印9\n",
    "*/\n",
    "\n",
    "string_with_mix_types_not_space();"
   ],
   "outputs": [
    {
     "output_type": "stream",
     "name": "stdout",
     "text": [
      "string_with_mix_types_not_space\n",
      "read int: 1,read char: ,\n",
      "read int: 2,read char: ,\n",
      "read int: 3,read char: ,\n",
      "read int: 4,read char: ,\n",
      "read int: 5,read char: ,\n",
      "read int: 6,read char: q\n",
      "read int: 7,read char: p\n",
      "read int: 8,read char: o\n",
      "The stream has failed or ended.\n"
     ]
    }
   ],
   "metadata": {}
  },
  {
   "cell_type": "markdown",
   "source": [
    "## 12 给向量添加数据"
   ],
   "metadata": {}
  },
  {
   "cell_type": "code",
   "execution_count": 39,
   "source": [
    "vector<int> v {1,2,3};\n",
    "\n",
    "for (int i=0; i<v.size() ; i++){\n",
    "    cout << v[i] << \"\\n\";\n",
    "}\n",
    "\n",
    "// 把整数4添加到向量v的最后\n",
    "v.push_back(4);\n",
    "\n",
    "for (int i=0; i<v.size(); i++){\n",
    "    cout << v[i] << \"\\n\";\n",
    "}"
   ],
   "outputs": [
    {
     "output_type": "stream",
     "name": "stdout",
     "text": [
      "1\n",
      "2\n",
      "3\n",
      "1\n",
      "2\n",
      "3\n",
      "4\n"
     ]
    }
   ],
   "metadata": {}
  },
  {
   "cell_type": "markdown",
   "source": [
    "## 13 逐行解析文件数据\n",
    "\n",
    "整合前几部分文件处理相关方法实现逐行解析文件数据\n",
    "\n",
    "- 使用<fstream>库的std::ifstream方法逐行读取文件\n",
    "- 使用<istringstream>库的std::istringstream方法解析每一行的字符串并通过向量push_back方法添加到向量容器。"
   ],
   "metadata": {}
  },
  {
   "cell_type": "markdown",
   "source": [
    "#### 逐行解析文件数据基本功能实现"
   ],
   "metadata": {}
  },
  {
   "cell_type": "code",
   "execution_count": 45,
   "source": [
    "// 声明逐行读取文件函数\n",
    "void ReadBoardFile(string path);"
   ],
   "outputs": [],
   "metadata": {}
  },
  {
   "cell_type": "code",
   "execution_count": 46,
   "source": [
    "// 定义逐行读取文件函数\n",
    "void ReadBoardFile(string path){\n",
    "    std::ifstream myfile(path);\n",
    "    if (myfile){\n",
    "        string line ;\n",
    "        while (getline(myfile, line)){\n",
    "            cout << line << \"\\n\";\n",
    "        }\n",
    "    }\n",
    "}"
   ],
   "outputs": [],
   "metadata": {}
  },
  {
   "cell_type": "code",
   "execution_count": 47,
   "source": [
    "// 声明解析行函数\n",
    "vector<int> ParseLine(string line);"
   ],
   "outputs": [],
   "metadata": {}
  },
  {
   "cell_type": "code",
   "execution_count": 48,
   "source": [
    "// 定义解析行函数\n",
    "vector<int> ParseLine(string line) {\n",
    "    \n",
    "    vector<int> rst ;\n",
    "    istringstream myreader(line);\n",
    "    \n",
    "    char c;\n",
    "    int n;\n",
    "    \n",
    "    while (myreader >>n>>c){\n",
    "        rst.push_back(n);\n",
    "    }\n",
    "    return rst;\n",
    "}"
   ],
   "outputs": [
    {
     "output_type": "stream",
     "name": "stderr",
     "text": [
      "\u001b[1minput_line_66:3:36: \u001b[0m\u001b[0;1;31merror: \u001b[0m\u001b[1mfunction definition is not allowed here\u001b[0m\n",
      "vector<int> ParseLine(string line) {\n",
      "\u001b[0;1;32m                                   ^\n",
      "\u001b[0m"
     ]
    },
    {
     "output_type": "error",
     "ename": "Interpreter Error",
     "evalue": "",
     "traceback": [
      "Interpreter Error: "
     ]
    }
   ],
   "metadata": {}
  },
  {
   "cell_type": "code",
   "execution_count": null,
   "source": [],
   "outputs": [],
   "metadata": {}
  }
 ],
 "metadata": {
  "kernelspec": {
   "display_name": "C++14",
   "language": "C++14",
   "name": "xcpp14"
  },
  "language_info": {
   "codemirror_mode": "text/x-c++src",
   "file_extension": ".cpp",
   "mimetype": "text/x-c++src",
   "name": "c++",
   "version": "14"
  }
 },
 "nbformat": 4,
 "nbformat_minor": 5
}