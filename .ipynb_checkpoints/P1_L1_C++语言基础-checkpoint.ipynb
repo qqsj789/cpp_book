{
 "cells": [
  {
   "cell_type": "markdown",
   "id": "c2d96f5a",
   "metadata": {},
   "source": [
    "## 01 写第一个C++程序"
   ]
  },
  {
   "cell_type": "code",
   "execution_count": 1,
   "id": "3bd6e80e",
   "metadata": {},
   "outputs": [],
   "source": [
    "int main() {\n",
    "    \n",
    "}"
   ]
  },
  {
   "cell_type": "markdown",
   "id": "0e489bc7",
   "metadata": {},
   "source": [
    "## 02 C++输出信息\n",
    "\n",
    "#include <iostream>\n",
    "using std::cout;\n",
    "\n",
    "int main() {\n",
    "    cout << \"Hello C++ World!\" << \"\\n\";   \n",
    "}\n",
    "    \n",
    "\n",
    "- #include <iostream>\n",
    "\n",
    "    #include 是在编译代码之前执行的预处理器命令。它搜索 iostream库头文件并将其内容粘贴到程序中。 iostream 包含输入/输出流对象的声明。\n",
    "\n",
    "- using std::cout;\n",
    "\n",
    "    命名空间是 C++ 中将标识符（名称）组合在一起的一种方式。它们为标识符提供上下文以避免命名冲突。 std 命名空间是用于标准库的命名空间。\n",
    "\n",
    "    using 命令将 std::cout 添加到程序的全局范围。这样就可以在代码中使用 cout，而不必写 std::cout。\n",
    "\n",
    "    cout 是一个输出流，用于将信息输出发送到笔记本或终端。\n",
    "    \n",
    "    示例中的后两行以分号“; ”结尾。在 C++ 中，代码语句以分号结尾。 #include 语句是一个预处理器命令，因此它不需要分号。\n",
    "    \n",
    "- cout << “Hello C++ World!” << \"\\n\";\n",
    "\n",
    "    在这一行中，代码使用 cout 将信息输出发送到笔记本。 “<<” 运算符是流插入运算符，它将运算符右侧的内容写入左侧。所以在这种情况下，“Message here”被写入输出流 cout。"
   ]
  },
  {
   "cell_type": "code",
   "execution_count": 2,
   "id": "120e6691",
   "metadata": {},
   "outputs": [],
   "source": [
    "#include <iostream>\n",
    "using std::cout;\n"
   ]
  },
  {
   "cell_type": "code",
   "execution_count": 3,
   "id": "e4ff4925",
   "metadata": {},
   "outputs": [
    {
     "name": "stdout",
     "output_type": "stream",
     "text": [
      "Hello C++ World!\n"
     ]
    },
    {
     "data": {
      "text/plain": [
       "@0x7f9d3417cba0"
      ]
     },
     "execution_count": 3,
     "metadata": {},
     "output_type": "execute_result"
    }
   ],
   "source": [
    "cout << \"Hello C++ World!\" << \"\\n\"; // 在xeus-cling jupyternotebook环境里不用写整个main（）函数，否则会报error: function definition is not allowed here int main() {"
   ]
  },
  {
   "cell_type": "markdown",
   "id": "8f2d0e12-b844-4159-a1aa-4c13404afed7",
   "metadata": {},
   "source": [
    "## 03 储存基本类型数据"
   ]
  },
  {
   "cell_type": "code",
   "execution_count": 4,
   "id": "3b3dcc14-7123-424d-8333-98caf84124c5",
   "metadata": {},
   "outputs": [
    {
     "name": "stdout",
     "output_type": "stream",
     "text": [
      "1\n",
      "Here is a string\n"
     ]
    }
   ],
   "source": [
    "#include <string>\n",
    "\n",
    "//申明并初始化一个整数变量\n",
    "int a = 1 ;\n",
    "\n",
    "//声明并初始化一个字符串变量\n",
    "std::string b ;\n",
    "b = \"Here is a string\" ;\n",
    "\n",
    "cout << a << \"\\n\" ;\n",
    "cout << b << \"\\n\" ;"
   ]
  },
  {
   "cell_type": "markdown",
   "id": "ecc93ae3-a5c0-4977-af03-687511b6de68",
   "metadata": {},
   "source": [
    "## 04 储存向量（vector）数据"
   ]
  },
  {
   "cell_type": "code",
   "execution_count": 5,
   "id": "3aecacbb-df0f-4d78-8917-c966d8420622",
   "metadata": {},
   "outputs": [
    {
     "name": "stdout",
     "output_type": "stream",
     "text": [
      "1d initial ok\n",
      "2\n",
      "3\n",
      "7\n",
      "2d initial ok\n",
      "8\n"
     ]
    }
   ],
   "source": [
    "#include <vector>\n",
    "using std::vector ;\n",
    "\n",
    "//声明并初始化一维向量(3种方法）\n",
    "vector<int> v1{0,1,2};\n",
    "vector<int> v2 = {3,4,5};\n",
    "vector<int> v3;\n",
    "v3 = {6,7,8};\n",
    "cout << \"1d initial ok\"<<\"\\n\";\n",
    "cout << v1[2] << \"\\n\";\n",
    "cout << v2[0] << \"\\n\";\n",
    "cout << v3[1] << \"\\n\";\n",
    "\n",
    "//声明并初始化二维向量\n",
    "vector<vector<int>> v2d {{1,2,3},{7,8,9}};\n",
    "cout << \"2d initial ok\" << \"\\n\";\n",
    "cout << v2d[1][1] << \"\\n\";\n"
   ]
  },
  {
   "cell_type": "markdown",
   "id": "f40296b2-87bf-4c85-9987-d596793dd268",
   "metadata": {},
   "source": [
    "## 05 使用关键字auto自动确定类型\n",
    "\n",
    "在之前的代码中，显式声明了每个变量的类型。\n",
    "一般来说，这不是必须的，编译器可以根据被赋值的值来确定类型。\n",
    "可以使用 auto 关键字自动确定类型。执行以下单元格来测试："
   ]
  },
  {
   "cell_type": "code",
   "execution_count": 6,
   "id": "97bf245e-3397-40d1-b0c8-a9ea5f4ef4bc",
   "metadata": {},
   "outputs": [
    {
     "name": "stdout",
     "output_type": "stream",
     "text": [
      "Variables declared and initialized without explicitly stating type!\n",
      "1 2 3 7 8 9 \n"
     ]
    }
   ],
   "source": [
    "auto i = 5;\n",
    "auto v_6 = {1, 2, 3,7,8,9};\n",
    "cout << \"Variables declared and initialized without explicitly stating type!\" << \"\\n\";\n",
    "\n",
    "for (auto i :v_6){ // i属于向量v_6里的元素\n",
    "    cout << i << \" \";\n",
    "}\n",
    "    cout << \"\\n\";"
   ]
  },
  {
   "cell_type": "markdown",
   "id": "c4e7a09f-69d0-442c-b7a1-7eb5d56c8bce",
   "metadata": {},
   "source": [
    "## 06 使用向量（vector）类型储存网格（grid）数据"
   ]
  },
  {
   "cell_type": "code",
   "execution_count": 7,
   "id": "8b760e35-9ed4-4a3f-9121-5613a1dd33f5",
   "metadata": {},
   "outputs": [],
   "source": [
    "// 声明并初始化一个二维向量类型变量\n",
    "vector<vector<int>> board = {{0,1,0,0,0,0},\n",
    "                            {0,1,0,0,0,0},\n",
    "                            {0,1,0,0,0,0},\n",
    "                            {0,1,0,0,0,0},\n",
    "                            {0,0,0,0,1,0}};"
   ]
  },
  {
   "cell_type": "code",
   "execution_count": 8,
   "id": "62126b31-4288-4cb4-8538-b4d457b8182c",
   "metadata": {},
   "outputs": [
    {
     "name": "stdout",
     "output_type": "stream",
     "text": [
      "1\n",
      "7\n",
      "1\n",
      "6\n",
      "5X6\n"
     ]
    },
    {
     "data": {
      "text/plain": [
       "@0x7f9d3417cba0"
      ]
     },
     "execution_count": 8,
     "metadata": {},
     "output_type": "execute_result"
    }
   ],
   "source": [
    "// 向量基本操作-输出向量元素\n",
    "vector<int> v = {1, 2, 3,7,8,9};\n",
    "cout << v[0] << \"\\n\";\n",
    "cout << v[3] << \"\\n\";\n",
    "cout << board[4][4] << \"\\n\";\n",
    "    \n",
    "// 向量基本操作—输出向量尺寸\n",
    "cout << v.size() << \"\\n\";\n",
    "cout << board.size() << \"X\" << board[0].size() << \"\\n\"; // board.size()取得行row,board[0].size()取得列col\n"
   ]
  },
  {
   "cell_type": "markdown",
   "id": "13c21d23-3e84-42f8-95c6-f0f69477c74f",
   "metadata": {},
   "source": [
    "## 07 For循环\n",
    "- 基于索引变量的For循环\n",
    " -- 递增运算符“++”\n",
    " -- 递减运算符“--”\n",
    "- 基于范围容器的For循环"
   ]
  },
  {
   "cell_type": "code",
   "execution_count": 9,
   "id": "5136e197-4461-43ec-8e90-3c9d0f11a24c",
   "metadata": {},
   "outputs": [
    {
     "name": "stdout",
     "output_type": "stream",
     "text": [
      "The i is :0\n",
      "The i is :1\n",
      "The i is :2\n",
      "The i is :3\n",
      "The i is :4\n",
      "post-increment\n",
      "The value of c is: 1\n",
      "The value of i is: 2\n",
      "pre-increment\n",
      "The value of c is: 2\n",
      "The value of i is: 2\n",
      "decrement\n",
      "The value of i is: 4\n"
     ]
    }
   ],
   "source": [
    "// 基于索引变量的For循环\n",
    "for (int i=0; i<5; i++){\n",
    "    cout << \"The i is :\" << i << \"\\n\";\n",
    "}\n",
    "\n",
    "// 递增运算符“++”（两种方式：后增post-increment和前增pre-increment）\n",
    "// 后增post-increment 先赋值再递增\n",
    "auto i = 1 ;\n",
    "auto c = i++ ;\n",
    "cout << \"post-increment\" << \"\\n\";\n",
    "cout << \"The value of c is: \" << c << \"\\n\";\n",
    "cout << \"The value of i is: \" << i << \"\\n\";\n",
    "\n",
    "// 前增pre-increment 先递增再赋值\n",
    "i = 1 ;\n",
    "c = ++ i ;\n",
    "cout << \"pre-increment\" << \"\\n\";\n",
    "cout << \"The value of c is: \" << c << \"\\n\";\n",
    "cout << \"The value of i is: \" << i << \"\\n\";\n",
    "\n",
    "// 递减运算符“--” 同递增性质\n",
    "i = 5 ;\n",
    "i-- ;\n",
    "cout << \"decrement\" << \"\\n\";\n",
    "cout << \"The value of i is: \" << i << \"\\n\";"
   ]
  },
  {
   "cell_type": "code",
   "execution_count": 10,
   "id": "12663aeb-b2fd-491d-9536-276dc43a3f97",
   "metadata": {},
   "outputs": [
    {
     "name": "stdout",
     "output_type": "stream",
     "text": [
      "1\n",
      "2\n",
      "3\n",
      "4\n",
      "5\n"
     ]
    }
   ],
   "source": [
    "//基于范围容器的For循环\n",
    "vector<int> a = {1,2,3,4,5};\n",
    "\n",
    "for (int i: a){\n",
    "    cout << i << \"\\n\";\n",
    "}"
   ]
  },
  {
   "cell_type": "markdown",
   "id": "2f2108f8-19c8-4ee3-8e1f-f6f1061b6f1e",
   "metadata": {},
   "source": [
    "## 08 函数\n"
   ]
  },
  {
   "cell_type": "code",
   "execution_count": 18,
   "id": "2864ca3d-f015-46df-bd7b-dcbe20dd944b",
   "metadata": {},
   "outputs": [],
   "source": [
    "// 写一个打印字符串函数\n",
    "/*void PrintStrings(string a, string b)\n",
    "{\n",
    "    cout << a << \" \" << b << \"\\n\";\n",
    "}\n",
    "这是一个完整的函数，函数类型void，两个字符串参数，函数执行连续打印两个字符串参数的动作，\n",
    "函数可以一次性声明并定义，但通常需先声明函数，然后再定义函数功能。\n",
    "*/\n",
    "\n",
    "#include <string>\n",
    "using std::string;\n",
    "\n",
    "// 先申明函数\n",
    "void PrintStrings(string a, string b);\n"
   ]
  },
  {
   "cell_type": "code",
   "execution_count": 19,
   "id": "66a1067f-953a-404f-b0b4-9f2c64791ef7",
   "metadata": {},
   "outputs": [
    {
     "name": "stdout",
     "output_type": "stream",
     "text": [
      "C++ is super awesome.\n"
     ]
    }
   ],
   "source": [
    "// 完整定义函数\n",
    "void PrintStrings(string a, string b){\n",
    "    cout << a << \" \" << b << \"\\n\";\n",
    "}\n",
    "\n",
    "// 传入变量值\n",
    "string s1 = \"C++ is\";\n",
    "string s2 = \"super awesome.\";\n",
    "\n",
    "PrintStrings(s1, s2);"
   ]
  },
  {
   "cell_type": "code",
   "execution_count": 21,
   "id": "426e5894-2b5c-4407-aca9-c3464b74ab4a",
   "metadata": {},
   "outputs": [],
   "source": [
    "// 写一个加法函数\n",
    "// 申明加法函数\n",
    "int AdditionFunction(int i, int j);"
   ]
  },
  {
   "cell_type": "code",
   "execution_count": 22,
   "id": "234b84e5-a891-44bd-9c31-6e77ea5602f9",
   "metadata": {},
   "outputs": [
    {
     "name": "stdout",
     "output_type": "stream",
     "text": [
      "10\n"
     ]
    }
   ],
   "source": [
    "// 完整定义加法函数并测试\n",
    "int AdditionFunction(int i, int j){\n",
    "    return i + j ;\n",
    "}\n",
    "\n",
    "auto d = 3 ;\n",
    "auto f = 7 ;\n",
    "\n",
    "cout << AdditionFunction(d, f) << \"\\n\";\n"
   ]
  },
  {
   "cell_type": "code",
   "execution_count": 23,
   "id": "964ae7ac-f9cf-4b91-8d95-51a31dbc814b",
   "metadata": {},
   "outputs": [],
   "source": [
    "// 写一个向量加法函数\n",
    "// 声明向量加法函数\n",
    "int AdditionFunction(vector<int> v);"
   ]
  },
  {
   "cell_type": "code",
   "execution_count": 24,
   "id": "cf4c49c3-815e-4c3d-a7e0-397377e60dcf",
   "metadata": {},
   "outputs": [
    {
     "name": "stdout",
     "output_type": "stream",
     "text": [
      "6\n"
     ]
    }
   ],
   "source": [
    "// 完整定义向量加法函数并测试\n",
    "int AdditionFunction(vector<int> v){\n",
    "    int sum = 0 ;\n",
    "    for (int num: v){\n",
    "        sum += num ;\n",
    "    }\n",
    "    return sum ;\n",
    "}\n",
    "\n",
    "vector<int> v {1,2,3};\n",
    "cout << AdditionFunction(v) << \"\\n\";\n"
   ]
  },
  {
   "cell_type": "code",
   "execution_count": 25,
   "id": "8a0068d2-2e95-4b76-b582-bfae724b2fca",
   "metadata": {},
   "outputs": [],
   "source": [
    "// 写一个函数打印出二维向量网格\n",
    "// 声明函数\n",
    "void PrintBoard(vector<vector<int>> board);\n"
   ]
  },
  {
   "cell_type": "code",
   "execution_count": 27,
   "id": "0e3146d4-1a4c-4fc8-a3f8-ef2aba89df77",
   "metadata": {},
   "outputs": [
    {
     "name": "stdout",
     "output_type": "stream",
     "text": [
      "010000\n",
      "010000\n",
      "010000\n",
      "010000\n",
      "000010\n"
     ]
    }
   ],
   "source": [
    "// 完整定义函数并测试函数\n",
    "void PrintBoard(vector<vector<int>> board){\n",
    "    int row = board.size();\n",
    "    int col = board[0].size();\n",
    "    \n",
    "    for(int i=0; i<row; i++){\n",
    "        for(int j=0; j<col; j++)\n",
    "            cout << board[i][j];\n",
    "            cout << \"\\n\";\n",
    "    }\n",
    "}\n",
    "\n",
    "vector<vector<int>> board{{0, 1, 0, 0, 0, 0},\n",
    "                          {0, 1, 0, 0, 0, 0},\n",
    "                          {0, 1, 0, 0, 0, 0},\n",
    "                          {0, 1, 0, 0, 0, 0},\n",
    "                          {0, 0, 0, 0, 1, 0}};\n",
    "\n",
    "PrintBoard(board);\n"
   ]
  },
  {
   "cell_type": "code",
   "execution_count": null,
   "id": "2ae155f9-759b-4ee4-9c0a-934421f340cb",
   "metadata": {},
   "outputs": [],
   "source": []
  },
  {
   "cell_type": "code",
   "execution_count": null,
   "id": "c9415db9-f5d1-4fcb-ba9d-38c66ad31ad0",
   "metadata": {},
   "outputs": [],
   "source": []
  }
 ],
 "metadata": {
  "kernelspec": {
   "display_name": "C++14",
   "language": "C++14",
   "name": "xcpp14"
  },
  "language_info": {
   "codemirror_mode": "text/x-c++src",
   "file_extension": ".cpp",
   "mimetype": "text/x-c++src",
   "name": "c++",
   "version": "14"
  }
 },
 "nbformat": 4,
 "nbformat_minor": 5
}
