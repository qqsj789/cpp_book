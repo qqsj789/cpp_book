{
 "cells": [
  {
   "cell_type": "code",
   "execution_count": null,
   "id": "99bc650a",
   "metadata": {},
   "outputs": [
    {
     "name": "stdout",
     "output_type": "stream",
     "text": [
      "hello world!\n"
     ]
    }
   ],
   "source": [
    "#include <iostream>\n",
    "\n",
    "std::cout << \"hello world!\" << std::endl ;\n"
   ]
  },
  {
   "cell_type": "code",
   "execution_count": null,
   "id": "7d7ec75a",
   "metadata": {},
   "outputs": [],
   "source": []
  }
 ],
 "metadata": {
  "kernelspec": {
   "display_name": "C++17",
   "language": "C++17",
   "name": "xcpp17"
  },
  "language_info": {
   "codemirror_mode": "text/x-c++src",
   "file_extension": ".cpp",
   "mimetype": "text/x-c++src",
   "name": "C++17",
   "version": "14"
  }
 },
 "nbformat": 4,
 "nbformat_minor": 5
}
