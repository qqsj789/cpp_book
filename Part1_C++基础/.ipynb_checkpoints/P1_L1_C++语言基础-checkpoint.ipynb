{
 "cells": [
  {
   "cell_type": "markdown",
   "id": "23ec1eab",
   "metadata": {},
   "source": [
    "## 01 写第一个C++程序"
   ]
  },
  {
   "cell_type": "code",
   "execution_count": 1,
   "id": "6f112ff3",
   "metadata": {},
   "outputs": [],
   "source": [
    "int main() {\n",
    "    \n",
    "}"
   ]
  },
  {
   "cell_type": "markdown",
   "id": "7a0a37c9",
   "metadata": {},
   "source": [
    "## 02 C++输出信息\n",
    "\n",
    "#include <iostream>\n",
    "using std::cout;\n",
    "\n",
    "int main() {\n",
    "    cout << \"Hello C++ World!\" << \"\\n\";   \n",
    "}\n",
    "    \n",
    "\n",
    "- #include <iostream>\n",
    "\n",
    "    #include 是在编译代码之前执行的预处理器命令。它搜索 iostream库头文件并将其内容粘贴到程序中。 iostream 包含输入/输出流对象的声明。\n",
    "\n",
    "- using std::cout;\n",
    "\n",
    "    命名空间是 C++ 中将标识符（名称）组合在一起的一种方式。它们为标识符提供上下文以避免命名冲突。 std 命名空间是用于标准库的命名空间。\n",
    "\n",
    "    using 命令将 std::cout 添加到程序的全局范围。这样就可以在代码中使用 cout，而不必写 std::cout。\n",
    "\n",
    "    cout 是一个输出流，用于将信息输出发送到笔记本或终端。\n",
    "    \n",
    "    示例中的后两行以分号“; ”结尾。在 C++ 中，代码语句以分号结尾。 #include 语句是一个预处理器命令，因此它不需要分号。\n",
    "    \n",
    "- cout << “Hello C++ World!” << \"\\n\";\n",
    "\n",
    "    在这一行中，代码使用 cout 将信息输出发送到笔记本。 “<<” 运算符是流插入运算符，它将运算符右侧的内容写入左侧。所以在这种情况下，“Message here”被写入输出流 cout。"
   ]
  },
  {
   "cell_type": "code",
   "execution_count": 2,
   "id": "f463742c",
   "metadata": {},
   "outputs": [],
   "source": [
    "#include <iostream>\n",
    "using std::cout;\n"
   ]
  },
  {
   "cell_type": "code",
   "execution_count": 3,
   "id": "742d7979",
   "metadata": {},
   "outputs": [
    {
     "name": "stdout",
     "output_type": "stream",
     "text": [
      "Hello C++ World!\n"
     ]
    },
    {
     "data": {
      "text/plain": [
       "@0x7f97517bdba0"
      ]
     },
     "execution_count": 3,
     "metadata": {},
     "output_type": "execute_result"
    }
   ],
   "source": [
    "cout << \"Hello C++ World!\" << \"\\n\"; // 在xeus-cling jupyternotebook环境里不用写整个main（）函数，否则会报error: function definition is not allowed here int main() {"
   ]
  },
  {
   "cell_type": "markdown",
   "id": "25fb0fc7",
   "metadata": {},
   "source": [
    "## 03 储存基本类型数据"
   ]
  },
  {
   "cell_type": "code",
   "execution_count": 4,
   "id": "816ac1fd",
   "metadata": {},
   "outputs": [
    {
     "name": "stdout",
     "output_type": "stream",
     "text": [
      "1\n",
      "Here is a string\n"
     ]
    }
   ],
   "source": [
    "#include <string>\n",
    "\n",
    "//申明并初始化一个整数变量\n",
    "int a = 1 ;\n",
    "\n",
    "//声明并初始化一个字符串变量\n",
    "std::string b ;\n",
    "b = \"Here is a string\" ;\n",
    "\n",
    "cout << a << \"\\n\" ;\n",
    "cout << b << \"\\n\" ;"
   ]
  },
  {
   "cell_type": "markdown",
   "id": "67d3069b",
   "metadata": {},
   "source": [
    "## 04 储存向量（vector）数据"
   ]
  },
  {
   "cell_type": "code",
   "execution_count": 5,
   "id": "340e7921",
   "metadata": {},
   "outputs": [
    {
     "name": "stdout",
     "output_type": "stream",
     "text": [
      "1d initial ok\n",
      "2\n",
      "3\n",
      "7\n",
      "2d initial ok\n",
      "8\n"
     ]
    }
   ],
   "source": [
    "#include <vector>\n",
    "using std::vector ;\n",
    "\n",
    "//声明并初始化一维向量(3种方法）\n",
    "vector<int> v1{0,1,2};\n",
    "vector<int> v2 = {3,4,5};\n",
    "vector<int> v3;\n",
    "v3 = {6,7,8};\n",
    "cout << \"1d initial ok\"<<\"\\n\";\n",
    "cout << v1[2] << \"\\n\";\n",
    "cout << v2[0] << \"\\n\";\n",
    "cout << v3[1] << \"\\n\";\n",
    "\n",
    "//声明并初始化二维向量\n",
    "vector<vector<int>> v2d {{1,2,3},{7,8,9}};\n",
    "cout << \"2d initial ok\" << \"\\n\";\n",
    "cout << v2d[1][1] << \"\\n\";\n"
   ]
  },
  {
   "cell_type": "markdown",
   "id": "911bb8f9",
   "metadata": {},
   "source": [
    "## 05 使用关键字auto自动确定类型\n",
    "\n",
    "在之前的代码中，显式声明了每个变量的类型。\n",
    "一般来说，这不是必须的，编译器可以根据被赋值的值来确定类型。\n",
    "可以使用 auto 关键字自动确定类型。执行以下单元格来测试："
   ]
  },
  {
   "cell_type": "code",
   "execution_count": 6,
   "id": "700be779",
   "metadata": {},
   "outputs": [
    {
     "name": "stdout",
     "output_type": "stream",
     "text": [
      "Variables declared and initialized without explicitly stating type!\n",
      "1 2 3 7 8 9 \n"
     ]
    }
   ],
   "source": [
    "auto i = 5;\n",
    "auto v_6 = {1, 2, 3,7,8,9};\n",
    "cout << \"Variables declared and initialized without explicitly stating type!\" << \"\\n\";\n",
    "\n",
    "for (auto i :v_6){ // i属于向量v_6里的元素\n",
    "    cout << i << \" \";\n",
    "}\n",
    "    cout << \"\\n\";"
   ]
  },
  {
   "cell_type": "markdown",
   "id": "b1c5be54",
   "metadata": {},
   "source": [
    "## 06 使用向量（vector）类型储存网格（grid）数据"
   ]
  },
  {
   "cell_type": "code",
   "execution_count": 7,
   "id": "1d992585",
   "metadata": {},
   "outputs": [],
   "source": [
    "// 声明并初始化一个二维向量类型变量\n",
    "vector<vector<int>> board = {{0,1,0,0,0,0},\n",
    "                            {0,1,0,0,0,0},\n",
    "                            {0,1,0,0,0,0},\n",
    "                            {0,1,0,0,0,0},\n",
    "                            {0,0,0,0,1,0}};"
   ]
  },
  {
   "cell_type": "code",
   "execution_count": 8,
   "id": "93780caf",
   "metadata": {},
   "outputs": [
    {
     "name": "stdout",
     "output_type": "stream",
     "text": [
      "1\n",
      "7\n",
      "1\n",
      "6\n",
      "5X6\n"
     ]
    },
    {
     "data": {
      "text/plain": [
       "@0x7f97517bdba0"
      ]
     },
     "execution_count": 8,
     "metadata": {},
     "output_type": "execute_result"
    }
   ],
   "source": [
    "// 向量基本操作-输出向量元素\n",
    "vector<int> v = {1, 2, 3,7,8,9};\n",
    "cout << v[0] << \"\\n\";\n",
    "cout << v[3] << \"\\n\";\n",
    "cout << board[4][4] << \"\\n\";\n",
    "    \n",
    "// 向量基本操作—输出向量尺寸\n",
    "cout << v.size() << \"\\n\";\n",
    "cout << board.size() << \"X\" << board[0].size() << \"\\n\"; // board.size()取得行row,board[0].size()取得列col\n"
   ]
  },
  {
   "cell_type": "markdown",
   "id": "c15166fb",
   "metadata": {},
   "source": [
    "## 07 For循环\n",
    "- 基于索引变量的For循环\n",
    " -- 递增运算符“++”\n",
    " -- 递减运算符“--”\n",
    "- 基于范围容器的For循环"
   ]
  },
  {
   "cell_type": "code",
   "execution_count": 9,
   "id": "c72e17ad",
   "metadata": {},
   "outputs": [
    {
     "name": "stdout",
     "output_type": "stream",
     "text": [
      "The i is :0\n",
      "The i is :1\n",
      "The i is :2\n",
      "The i is :3\n",
      "The i is :4\n",
      "post-increment\n",
      "The value of c is: 1\n",
      "The value of i is: 2\n",
      "pre-increment\n",
      "The value of c is: 2\n",
      "The value of i is: 2\n",
      "decrement\n",
      "The value of i is: 4\n"
     ]
    }
   ],
   "source": [
    "// 基于索引变量的For循环\n",
    "for (int i=0; i<5; i++){\n",
    "    cout << \"The i is :\" << i << \"\\n\";\n",
    "}\n",
    "\n",
    "// 递增运算符“++”（两种方式：后增post-increment和前增pre-increment）\n",
    "// 后增post-increment 先赋值再递增\n",
    "auto i = 1 ;\n",
    "auto c = i++ ;\n",
    "cout << \"post-increment\" << \"\\n\";\n",
    "cout << \"The value of c is: \" << c << \"\\n\";\n",
    "cout << \"The value of i is: \" << i << \"\\n\";\n",
    "\n",
    "// 前增pre-increment 先递增再赋值\n",
    "i = 1 ;\n",
    "c = ++ i ;\n",
    "cout << \"pre-increment\" << \"\\n\";\n",
    "cout << \"The value of c is: \" << c << \"\\n\";\n",
    "cout << \"The value of i is: \" << i << \"\\n\";\n",
    "\n",
    "// 递减运算符“--” 同递增性质\n",
    "i = 5 ;\n",
    "i-- ;\n",
    "cout << \"decrement\" << \"\\n\";\n",
    "cout << \"The value of i is: \" << i << \"\\n\";"
   ]
  },
  {
   "cell_type": "code",
   "execution_count": 10,
   "id": "a63d689b",
   "metadata": {},
   "outputs": [
    {
     "name": "stdout",
     "output_type": "stream",
     "text": [
      "1\n",
      "2\n",
      "3\n",
      "4\n",
      "5\n"
     ]
    }
   ],
   "source": [
    "//基于范围容器的For循环\n",
    "vector<int> a = {1,2,3,4,5};\n",
    "\n",
    "for (int i: a){\n",
    "    cout << i << \"\\n\";\n",
    "}"
   ]
  },
  {
   "cell_type": "markdown",
   "id": "78b6ab66",
   "metadata": {},
   "source": [
    "## 08 函数\n"
   ]
  },
  {
   "cell_type": "code",
   "execution_count": 11,
   "id": "cccb01e0",
   "metadata": {},
   "outputs": [],
   "source": [
    "// 写一个打印字符串函数\n",
    "/*void PrintStrings(string a, string b)\n",
    "{\n",
    "    cout << a << \" \" << b << \"\\n\";\n",
    "}\n",
    "这是一个完整的函数，函数类型void，两个字符串参数，函数执行连续打印两个字符串参数的动作，\n",
    "函数可以一次性声明并定义，但通常需先声明函数，然后再定义函数功能。\n",
    "*/\n",
    "\n",
    "#include <string>\n",
    "using std::string;\n",
    "\n",
    "// 先申明函数\n",
    "void PrintStrings(string a, string b);\n"
   ]
  },
  {
   "cell_type": "code",
   "execution_count": 12,
   "id": "ae4858cc",
   "metadata": {},
   "outputs": [
    {
     "name": "stdout",
     "output_type": "stream",
     "text": [
      "C++ is super awesome.\n"
     ]
    }
   ],
   "source": [
    "// 完整定义函数\n",
    "void PrintStrings(string a, string b){\n",
    "    cout << a << \" \" << b << \"\\n\";\n",
    "}\n",
    "\n",
    "// 传入变量值\n",
    "string s1 = \"C++ is\";\n",
    "string s2 = \"super awesome.\";\n",
    "\n",
    "PrintStrings(s1, s2);"
   ]
  },
  {
   "cell_type": "code",
   "execution_count": 13,
   "id": "7d02f4a7",
   "metadata": {},
   "outputs": [],
   "source": [
    "// 写一个加法函数\n",
    "// 申明加法函数\n",
    "int AdditionFunction(int i, int j);"
   ]
  },
  {
   "cell_type": "code",
   "execution_count": 14,
   "id": "a3176c97",
   "metadata": {},
   "outputs": [
    {
     "name": "stdout",
     "output_type": "stream",
     "text": [
      "10\n"
     ]
    }
   ],
   "source": [
    "// 完整定义加法函数并测试\n",
    "int AdditionFunction(int i, int j){\n",
    "    return i + j ;\n",
    "}\n",
    "\n",
    "auto d = 3 ;\n",
    "auto f = 7 ;\n",
    "\n",
    "cout << AdditionFunction(d, f) << \"\\n\";\n"
   ]
  },
  {
   "cell_type": "code",
   "execution_count": 15,
   "id": "d6c8c6ca",
   "metadata": {},
   "outputs": [],
   "source": [
    "// 写一个向量加法函数\n",
    "// 声明向量加法函数\n",
    "int AdditionFunction(vector<int> v);"
   ]
  },
  {
   "cell_type": "code",
   "execution_count": 16,
   "id": "3794f72f",
   "metadata": {},
   "outputs": [
    {
     "name": "stdout",
     "output_type": "stream",
     "text": [
      "6\n"
     ]
    }
   ],
   "source": [
    "// 完整定义向量加法函数并测试\n",
    "int AdditionFunction(vector<int> v){\n",
    "    int sum = 0 ;\n",
    "    for (int num: v){\n",
    "        sum += num ;\n",
    "    }\n",
    "    return sum ;\n",
    "}\n",
    "\n",
    "vector<int> v {1,2,3};\n",
    "cout << AdditionFunction(v) << \"\\n\";\n"
   ]
  },
  {
   "cell_type": "code",
   "execution_count": 17,
   "id": "9c8fb0db",
   "metadata": {},
   "outputs": [],
   "source": [
    "// 写一个函数打印出二维向量网格\n",
    "// 声明函数\n",
    "void PrintBoard(vector<vector<int>> board);\n"
   ]
  },
  {
   "cell_type": "code",
   "execution_count": 18,
   "id": "13e8201f",
   "metadata": {},
   "outputs": [
    {
     "name": "stdout",
     "output_type": "stream",
     "text": [
      "010000\n",
      "010000\n",
      "010000\n",
      "010000\n",
      "000010\n"
     ]
    }
   ],
   "source": [
    "// 完整定义函数并测试函数\n",
    "void PrintBoard(vector<vector<int>> board){\n",
    "    int row = board.size();\n",
    "    int col = board[0].size();\n",
    "    \n",
    "    for(int i=0; i<row; i++){\n",
    "        for(int j=0; j<col; j++)\n",
    "            cout << board[i][j];\n",
    "            cout << \"\\n\";\n",
    "    }\n",
    "}\n",
    "\n",
    "vector<vector<int>> board{{0, 1, 0, 0, 0, 0},\n",
    "                          {0, 1, 0, 0, 0, 0},\n",
    "                          {0, 1, 0, 0, 0, 0},\n",
    "                          {0, 1, 0, 0, 0, 0},\n",
    "                          {0, 0, 0, 0, 1, 0}};\n",
    "\n",
    "PrintBoard(board);\n"
   ]
  },
  {
   "cell_type": "markdown",
   "id": "427e301c",
   "metadata": {},
   "source": [
    "## 09 If条件判断和While循环\n"
   ]
  },
  {
   "cell_type": "code",
   "execution_count": 19,
   "id": "ec0698d4",
   "metadata": {},
   "outputs": [
    {
     "name": "stdout",
     "output_type": "stream",
     "text": [
      "Hooray! You made it into the if statement!\n"
     ]
    }
   ],
   "source": [
    "// 在 C++ 中，布尔条件包含在括号 ( ) 中，语句主体包含在大括号 { } 中。\n",
    "\n",
    "bool a= true ;\n",
    "\n",
    "if (a) {\n",
    "    cout << \"Hooray! You made it into the if statement!\" << \"\\n\" ;\n",
    "}"
   ]
  },
  {
   "cell_type": "code",
   "execution_count": 20,
   "id": "3f4aa55e",
   "metadata": {},
   "outputs": [
    {
     "name": "stdout",
     "output_type": "stream",
     "text": [
      "0\n",
      "1\n",
      "2\n",
      "3\n",
      "4\n"
     ]
    }
   ],
   "source": [
    "// while 循环的语法与 if 语句的语法非常相似\n",
    "\n",
    "auto i = 0;\n",
    "\n",
    "while (i < 5 ) {\n",
    "    cout << i << \"\\n\";\n",
    "    i++;\n",
    "}"
   ]
  },
  {
   "cell_type": "code",
   "execution_count": 21,
   "id": "8764706f",
   "metadata": {},
   "outputs": [
    {
     "name": "stdout",
     "output_type": "stream",
     "text": [
      "2\n",
      "4\n",
      "6\n",
      "8\n",
      "10\n"
     ]
    }
   ],
   "source": [
    "// while 循环和if 语句搭配使用打印偶数。\n",
    "// 对于给定的 int i，i % 2取余数，如果结果为0则i为偶数。\n",
    "\n",
    "int i = 1;\n",
    "\n",
    "while (i <=10 ){\n",
    "    if (i % 2 == 0){\n",
    "        cout << i << \"\\n\";\n",
    "    }\n",
    "    i++ ;\n",
    "}"
   ]
  },
  {
   "cell_type": "markdown",
   "id": "40242a68",
   "metadata": {},
   "source": [
    "## 10 文件读取\n",
    "\n",
    "读取文件的四个步骤：\n",
    "\n",
    "- 1.#include <fstream> 库\n",
    "- 2.使用文件路径创建一个 std::ifstream 流对象。\n",
    "- 3.将 std::ifstream 对象评估为 bool 以确保流对象创建成功。\n",
    "- 4.使用带有 getline（） 的 while 循环将文件行写入字符串。"
   ]
  },
  {
   "cell_type": "markdown",
   "id": "722f9a1a-1d0f-4fc9-8891-bc8a720a755d",
   "metadata": {},
   "source": [
    "#### 写文件打开测试函数"
   ]
  },
  {
   "cell_type": "code",
   "execution_count": 22,
   "id": "5309fce7",
   "metadata": {},
   "outputs": [],
   "source": [
    "// 添加文件处理库\n",
    "#include <fstream>"
   ]
  },
  {
   "cell_type": "code",
   "execution_count": 23,
   "id": "9f71d03c",
   "metadata": {},
   "outputs": [],
   "source": [
    "// 声明文件打开测试函数\n",
    "void file_open_testing();"
   ]
  },
  {
   "cell_type": "code",
   "execution_count": 24,
   "id": "61e61901",
   "metadata": {},
   "outputs": [
    {
     "name": "stdout",
     "output_type": "stream",
     "text": [
      "we have this file\n"
     ]
    }
   ],
   "source": [
    "// 定义完整函数并测试\n",
    "void file_open_testing(){\n",
    "    // 创建std::ifstream流对象\n",
    "    std::ifstream my_file;\n",
    "    my_file.open(\"files/1.board\");\n",
    "    \n",
    "    if (my_file){\n",
    "        cout << \"we have this file\" << \"\\n\";\n",
    "    }else{\n",
    "        cout << \"we don't have this file\" << \"\\n\";\n",
    "    }\n",
    "}\n",
    "\n",
    "file_open_testing();\n"
   ]
  },
  {
   "cell_type": "markdown",
   "id": "db89276b-b2a2-4f25-ae7b-c2e983020c6e",
   "metadata": {},
   "source": [
    "#### 完整文件数据读取函数"
   ]
  },
  {
   "cell_type": "code",
   "execution_count": 25,
   "id": "765ec0eb",
   "metadata": {},
   "outputs": [],
   "source": [
    "// 声明读数据函数\n",
    "void reading_data_from_stream();"
   ]
  },
  {
   "cell_type": "code",
   "execution_count": 26,
   "id": "d2d20a9d",
   "metadata": {},
   "outputs": [
    {
     "name": "stdout",
     "output_type": "stream",
     "text": [
      "The file stream has been created!\n",
      "0,1,0,0,0,0,\n",
      "0,1,0,0,0,0,\n",
      "0,1,0,0,0,0,\n",
      "0,1,0,0,0,0,\n",
      "0,0,0,0,1,0,\n"
     ]
    }
   ],
   "source": [
    "// 定义读数据函数并测试\n",
    "void reading_data_from_stream(){\n",
    "    std::ifstream my_file(\"./files/1.board\");\n",
    "    \n",
    "    if (my_file) {\n",
    "        cout << \"The file stream has been created!\" << \"\\n\";\n",
    "        \n",
    "        std::string line;\n",
    "        while (getline(my_file, line)){\n",
    "            cout << line << \"\\n\";\n",
    "        }\n",
    "    }\n",
    "}\n",
    "\n",
    "reading_data_from_stream();"
   ]
  },
  {
   "cell_type": "markdown",
   "id": "778e1806-e2b1-4014-adfa-5fb583d0daa0",
   "metadata": {},
   "source": [
    "#### 写通用文件数据读取函数"
   ]
  },
  {
   "cell_type": "code",
   "execution_count": 27,
   "id": "d74635c0",
   "metadata": {},
   "outputs": [],
   "source": [
    "//使用更好的方式重写读取board文件函数\n",
    "// 声明函数\n",
    "void ReadBoardFile(string file_path);\n"
   ]
  },
  {
   "cell_type": "code",
   "execution_count": 28,
   "id": "f9ee96c0",
   "metadata": {},
   "outputs": [],
   "source": [
    "// 先初始化变量file_path\n",
    "string file_path = \" \" ;"
   ]
  },
  {
   "cell_type": "code",
   "execution_count": 29,
   "id": "2f2374b4",
   "metadata": {},
   "outputs": [
    {
     "name": "stdout",
     "output_type": "stream",
     "text": [
      "0,1,0,0,0,0,\n",
      "0,1,0,0,0,0,\n",
      "0,1,0,0,0,0,\n",
      "0,1,0,0,0,0,\n",
      "0,0,0,0,1,0,\n"
     ]
    }
   ],
   "source": [
    "// 定义完整函数并测试\n",
    "void ReadBoardFile(string file_path){\n",
    "    std::ifstream board_file(file_path) ;\n",
    "    \n",
    "    if (board_file){\n",
    "        \n",
    "        string line;\n",
    "        while (getline(board_file, line)){\n",
    "            cout << line << \"\\n\";\n",
    "        }\n",
    "    }else{\n",
    "        cout << \"no such file \" << file_path << \"\\n\" ;\n",
    "    }\n",
    "}\n",
    "\n",
    "string file_path = \"./files/1.board\";\n",
    "ReadBoardFile(file_path);\n"
   ]
  },
  {
   "cell_type": "markdown",
   "id": "f06d9988-353c-4ba0-abd6-35c1f610f2e2",
   "metadata": {},
   "source": [
    "## 11 文件字符串处理\n",
    "\n",
    "在 C++ 中，字符串可以流式传输到临时变量中，类似于如何将文件流式传输为字符串。流式传输字符串允许我们单独处理每个字符。\n",
    "\n",
    "流式传输字符串的一种方法是使用来自 <sstream> 头文件的 istringstream输入字符串流对象。\n",
    "\n",
    "一旦创建了 istringstream 对象，部分字符串可以使用提取运算符“>>”进行流式传输和存储。提取运算符将一直读取直到到达空格或直到流失败。\n",
    "\n",
    "istringstream 对象是一个指针，指向字符串容器，如果当前指针 READ(>>) 非数字或错误或结束文件将返回错误或 0 或 false。每次提取一个容器时，istringstream 对象都会向右移动到下一个容器。\n",
    "    "
   ]
  },
  {
   "cell_type": "code",
   "execution_count": 30,
   "id": "180c6624",
   "metadata": {},
   "outputs": [],
   "source": [
    "// 添加<sstream>库\n",
    "#include <sstream>\n",
    "using std::istringstream;\n"
   ]
  },
  {
   "cell_type": "markdown",
   "id": "9af36b73-ec0a-461f-b497-20dc598dd37e",
   "metadata": {},
   "source": [
    "#### 提取字符串整数函数基本功能测试"
   ]
  },
  {
   "cell_type": "code",
   "execution_count": 31,
   "id": "8daf3e28",
   "metadata": {},
   "outputs": [],
   "source": [
    "// 声明函数\n",
    "void istringstream_test ();"
   ]
  },
  {
   "cell_type": "code",
   "execution_count": 32,
   "id": "9777077a",
   "metadata": {},
   "outputs": [
    {
     "name": "stdout",
     "output_type": "stream",
     "text": [
      "istringstream_test\n",
      "1\n"
     ]
    }
   ],
   "source": [
    "// 定义函数体并测试\n",
    "void istringstream_test(){\n",
    "    cout << __func__ << \"\\n\"; //打印自身函数名\n",
    "    string a(\"1 2 3\");\n",
    "    istringstream my_stream(a) ;\n",
    "    \n",
    "    int n ;\n",
    "    my_stream >> n;\n",
    "    cout << n << \"\\n\";\n",
    "}\n",
    "\n",
    "istringstream_test();"
   ]
  },
  {
   "cell_type": "markdown",
   "id": "4f2a47dc-8ca8-431f-9774-2e4edfe461ef",
   "metadata": {},
   "source": [
    "#### 提取字符串整数函数完整实现"
   ]
  },
  {
   "cell_type": "code",
   "execution_count": 33,
   "id": "89c9b9b4-1ca6-4358-ac56-f4ea75437b49",
   "metadata": {},
   "outputs": [],
   "source": [
    "// 声明函数\n",
    "void use_istringstream_as_boolen_read_all();"
   ]
  },
  {
   "cell_type": "code",
   "execution_count": 34,
   "id": "d769e052-9d4e-4d0f-a3ca-4f7d315b324f",
   "metadata": {},
   "outputs": [
    {
     "name": "stdout",
     "output_type": "stream",
     "text": [
      "use_istringstream_as_boolen_read_all\n",
      "That stream was successful: 1\n",
      "That stream was successful: 2\n",
      "That stream was successful: 3\n",
      "That stream was NOT successful!\n"
     ]
    }
   ],
   "source": [
    "// 定义函数并测试\n",
    "void use_istringstream_as_boolen_read_all(){\n",
    "    cout << __func__ << \"\\n\";\n",
    "    string a(\"1 2 3\");\n",
    "    istringstream my_stream(a);\n",
    "    \n",
    "    int n;\n",
    "    while (my_stream) {\n",
    "        my_stream >> n ;\n",
    "        if (my_stream) {\n",
    "            cout << \"That stream was successful: \" << n << \"\\n\";\n",
    "        }else{\n",
    "            cout << \"That stream was NOT successful!\" << \"\\n\";\n",
    "        }\n",
    "    }\n",
    "}\n",
    "\n",
    "use_istringstream_as_boolen_read_all();\n"
   ]
  },
  {
   "cell_type": "markdown",
   "id": "cd860064-d311-43ae-b771-6ba2824362c2",
   "metadata": {},
   "source": [
    "#### 提取字符串整数函数优化"
   ]
  },
  {
   "cell_type": "code",
   "execution_count": 35,
   "id": "f64b1f5e-7e53-4449-9376-25a3547ec2ed",
   "metadata": {},
   "outputs": [],
   "source": [
    "// 声明函数\n",
    "void common_way_to_use_istringstream_in_while() ;"
   ]
  },
  {
   "cell_type": "code",
   "execution_count": 36,
   "id": "00c3b4c4-b224-4da2-8079-e65a143bd4aa",
   "metadata": {},
   "outputs": [
    {
     "name": "stdout",
     "output_type": "stream",
     "text": [
      "common_way_to_use_istringstream_in_while\n",
      "read: 4\n",
      "read: 5\n",
      "read: 6\n",
      "The stream has failed or ended.\n"
     ]
    }
   ],
   "source": [
    "// 定义函数并测试\n",
    "void common_way_to_use_istringstream_in_while(){\n",
    "    cout << __func__ << \"\\n\";\n",
    "    istringstream myreader(\"4 5   6\");\n",
    "    \n",
    "    int n;\n",
    "    while (myreader >> n){\n",
    "        cout << \"read: \" << n << \"\\n\";\n",
    "    }\n",
    "    cout << \"The stream has failed or ended.\" << \"\\n\" ;\n",
    "}\n",
    "\n",
    "common_way_to_use_istringstream_in_while();\n"
   ]
  },
  {
   "cell_type": "markdown",
   "id": "dcf5db5b-539c-457a-8897-fda0f7d917c6",
   "metadata": {},
   "source": [
    "#### 提取字符串混合类型数据函数实现"
   ]
  },
  {
   "cell_type": "code",
   "execution_count": 37,
   "id": "babc27cd-d92b-4f77-ad26-415beb824888",
   "metadata": {},
   "outputs": [],
   "source": [
    "// 声明函数\n",
    "void string_with_mix_types_not_space();"
   ]
  },
  {
   "cell_type": "code",
   "execution_count": 38,
   "id": "19c89100-9667-40f7-8966-b7837e9258d9",
   "metadata": {},
   "outputs": [
    {
     "name": "stdout",
     "output_type": "stream",
     "text": [
      "string_with_mix_types_not_space\n",
      "read int: 1,read char: ,\n",
      "read int: 2,read char: ,\n",
      "read int: 3,read char: ,\n",
      "read int: 4,read char: ,\n",
      "read int: 5,read char: ,\n",
      "read int: 6,read char: q\n",
      "read int: 7,read char: p\n",
      "read int: 8,read char: o\n",
      "The stream has failed or ended.\n"
     ]
    }
   ],
   "source": [
    "// 定义函数并测试\n",
    "void string_with_mix_types_not_space(){\n",
    "    cout << __func__ << \"\\n\";\n",
    "    string b(\"1,2,3,4,5,6q7p8o9\");\n",
    "    istringstream mixstring(b);\n",
    "    \n",
    "    char c ;\n",
    "    int n ;\n",
    "    \n",
    "    while (mixstring >> n >> c){ \n",
    "        cout << \"read int: \" << n << \",read char: \" << c << \"\\n\";\n",
    "    }\n",
    "    cout << \"The stream has failed or ended.\" << \"\\n\";\n",
    "}\n",
    "/* mixstring >> n >> c\n",
    "此命令格式将会按照 一个整数后跟一个字符的形式读取，9后面没有字符因此会跳出循环,因此不会打印9\n",
    "*/\n",
    "\n",
    "string_with_mix_types_not_space();"
   ]
  },
  {
   "cell_type": "markdown",
   "id": "6e346d5c-13e5-4991-85d7-33c105a422dc",
   "metadata": {},
   "source": [
    "## 12 给向量添加数据"
   ]
  },
  {
   "cell_type": "code",
   "execution_count": 39,
   "id": "6a833714-d6cb-494e-9421-ea4eece2abe2",
   "metadata": {},
   "outputs": [
    {
     "name": "stdout",
     "output_type": "stream",
     "text": [
      "1\n",
      "2\n",
      "3\n",
      "1\n",
      "2\n",
      "3\n",
      "4\n"
     ]
    }
   ],
   "source": [
    "vector<int> v {1,2,3};\n",
    "\n",
    "for (int i=0; i<v.size() ; i++){\n",
    "    cout << v[i] << \"\\n\";\n",
    "}\n",
    "\n",
    "// 把整数4添加到向量v的最后\n",
    "v.push_back(4);\n",
    "\n",
    "for (int i=0; i<v.size(); i++){\n",
    "    cout << v[i] << \"\\n\";\n",
    "}"
   ]
  },
  {
   "cell_type": "markdown",
   "id": "8cacd32b-cf0c-4283-aa06-d0a7bf431698",
   "metadata": {},
   "source": [
    "## 13 逐行解析文件数据\n",
    "\n",
    "整合前几部分文件处理相关方法实现逐行解析文件数据\n",
    "\n",
    "- 使用<fstream>库的std::ifstream方法逐行读取文件\n",
    "- 使用<istringstream>库的std::istringstream方法解析每一行的字符串并通过向量push_back方法添加到向量容器。"
   ]
  },
  {
   "cell_type": "markdown",
   "id": "a743b0cb-a64b-464c-acd1-8ae39aea7252",
   "metadata": {},
   "source": [
    "#### 逐行解析文件数据基本功能实现"
   ]
  },
  {
   "cell_type": "code",
   "execution_count": 45,
   "id": "99d07682-be5d-4388-acd8-7e095ff432cb",
   "metadata": {},
   "outputs": [],
   "source": [
    "// 声明逐行读取文件函数\n",
    "void ReadBoardFile(string path);"
   ]
  },
  {
   "cell_type": "code",
   "execution_count": 46,
   "id": "079e7c38-1a1e-4083-a94b-08f720835033",
   "metadata": {},
   "outputs": [],
   "source": [
    "// 定义逐行读取文件函数\n",
    "void ReadBoardFile(string path){\n",
    "    std::ifstream myfile(path);\n",
    "    if (myfile){\n",
    "        string line ;\n",
    "        while (getline(myfile, line)){\n",
    "            cout << line << \"\\n\";\n",
    "        }\n",
    "    }\n",
    "}"
   ]
  },
  {
   "cell_type": "code",
   "execution_count": 47,
   "id": "51d81ea0-a624-46be-a1e0-0bd73752adf6",
   "metadata": {},
   "outputs": [],
   "source": [
    "// 声明解析行函数\n",
    "vector<int> ParseLine(string line);"
   ]
  },
  {
   "cell_type": "code",
   "execution_count": 48,
   "id": "fa772588-64ea-412e-ac92-a7f4bb5bb368",
   "metadata": {},
   "outputs": [
    {
     "name": "stderr",
     "output_type": "stream",
     "text": [
      "\u001b[1minput_line_66:3:36: \u001b[0m\u001b[0;1;31merror: \u001b[0m\u001b[1mfunction definition is not allowed here\u001b[0m\n",
      "vector<int> ParseLine(string line) {\n",
      "\u001b[0;1;32m                                   ^\n",
      "\u001b[0m"
     ]
    },
    {
     "ename": "Interpreter Error",
     "evalue": "",
     "output_type": "error",
     "traceback": [
      "Interpreter Error: "
     ]
    }
   ],
   "source": [
    "// 定义解析行函数\n",
    "vector<int> ParseLine(string line) {\n",
    "    \n",
    "    vector<int> rst ;\n",
    "    istringstream myreader(line);\n",
    "    \n",
    "    char c;\n",
    "    int n;\n",
    "    \n",
    "    while (myreader >>n>>c){\n",
    "        rst.push_back(n);\n",
    "    }\n",
    "    return rst;\n",
    "}"
   ]
  },
  {
   "cell_type": "code",
   "execution_count": null,
   "id": "eb2907ce-905f-46ae-81f5-e20b9a6c0b6f",
   "metadata": {},
   "outputs": [],
   "source": []
  }
 ],
 "metadata": {
  "kernelspec": {
   "display_name": "C++14",
   "language": "C++14",
   "name": "xcpp14"
  },
  "language_info": {
   "codemirror_mode": "text/x-c++src",
   "file_extension": ".cpp",
   "mimetype": "text/x-c++src",
   "name": "c++",
   "version": "14"
  }
 },
 "nbformat": 4,
 "nbformat_minor": 5
}
