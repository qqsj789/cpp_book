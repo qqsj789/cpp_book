{
 "cells": [
  {
   "cell_type": "markdown",
   "id": "2f9de3f2",
   "metadata": {},
   "source": [
    "##  01 写第一个C++程序"
   ]
  },
  {
   "cell_type": "code",
   "execution_count": 8,
   "id": "a3b0265d",
   "metadata": {},
   "outputs": [],
   "source": [
    "int main() {\n",
    "    \n",
    "}"
   ]
  },
  {
   "cell_type": "markdown",
   "id": "f697a42b",
   "metadata": {},
   "source": [
    "## 02 C++语言基础和输出"
   ]
  },
  {
   "cell_type": "code",
   "execution_count": 14,
   "id": "c7cd0bc5",
   "metadata": {},
   "outputs": [],
   "source": [
    "#include <iostream>\n",
    "\n",
    "\n",
    "int main( ){\n",
    "    std::cout << \"Hello C++ World!\" << \"\\n\";\n",
    "}\n"
   ]
  },
  {
   "cell_type": "code",
   "execution_count": null,
   "id": "e9307cb1",
   "metadata": {},
   "outputs": [],
   "source": []
  }
 ],
 "metadata": {
  "kernelspec": {
   "display_name": "C++14",
   "language": "C++14",
   "name": "xcpp14"
  },
  "language_info": {
   "codemirror_mode": "text/x-c++src",
   "file_extension": ".cpp",
   "mimetype": "text/x-c++src",
   "name": "c++",
   "version": "14"
  }
 },
 "nbformat": 4,
 "nbformat_minor": 5
}
