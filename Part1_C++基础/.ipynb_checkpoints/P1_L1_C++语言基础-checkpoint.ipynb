{
 "cells": [
  {
   "cell_type": "markdown",
   "id": "f247dd93",
   "metadata": {},
   "source": [
    "## 01 写第一个C++程序"
   ]
  },
  {
   "cell_type": "code",
   "execution_count": 1,
   "id": "fa09ccf9",
   "metadata": {},
   "outputs": [],
   "source": [
    "int main() {\n",
    "    \n",
    "}"
   ]
  },
  {
   "cell_type": "markdown",
   "id": "a1086a49",
   "metadata": {},
   "source": [
    "## 02 C++输出信息\n",
    "\n",
    "#include <iostream>\n",
    "using std::cout;\n",
    "\n",
    "int main() {\n",
    "    cout << \"Hello C++ World!\" << \"\\n\";   \n",
    "}\n",
    "    \n",
    "\n",
    "- #include <iostream>\n",
    "\n",
    "    #include 是在编译代码之前执行的预处理器命令。它搜索 iostream库头文件并将其内容粘贴到程序中。 iostream 包含输入/输出流对象的声明。\n",
    "\n",
    "- using std::cout;\n",
    "\n",
    "    命名空间是 C++ 中将标识符（名称）组合在一起的一种方式。它们为标识符提供上下文以避免命名冲突。 std 命名空间是用于标准库的命名空间。\n",
    "\n",
    "    using 命令将 std::cout 添加到程序的全局范围。这样就可以在代码中使用 cout，而不必写 std::cout。\n",
    "\n",
    "    cout 是一个输出流，用于将信息输出发送到笔记本或终端。\n",
    "    \n",
    "    示例中的后两行以分号“; ”结尾。在 C++ 中，代码语句以分号结尾。 #include 语句是一个预处理器命令，因此它不需要分号。\n",
    "    \n",
    "- cout << “Hello C++ World!” << \"\\n\";\n",
    "\n",
    "    在这一行中，代码使用 cout 将信息输出发送到笔记本。 “<<” 运算符是流插入运算符，它将运算符右侧的内容写入左侧。所以在这种情况下，“Message here”被写入输出流 cout。"
   ]
  },
  {
   "cell_type": "code",
   "execution_count": 2,
   "id": "cc6b2132",
   "metadata": {},
   "outputs": [],
   "source": [
    "#include <iostream>\n",
    "using std::cout;\n"
   ]
  },
  {
   "cell_type": "code",
   "execution_count": 3,
   "id": "9fdbc561",
   "metadata": {},
   "outputs": [
    {
     "name": "stdout",
     "output_type": "stream",
     "text": [
      "Hello C++ World!\n"
     ]
    },
    {
     "data": {
      "text/plain": [
       "@0x7f2a4d128ba0"
      ]
     },
     "execution_count": 3,
     "metadata": {},
     "output_type": "execute_result"
    }
   ],
   "source": [
    "cout << \"Hello C++ World!\" << \"\\n\"; // 在xeus-cling jupyternotebook环境里不用写整个main（）函数，否则会报error: function definition is not allowed here int main() {"
   ]
  },
  {
   "cell_type": "markdown",
   "id": "6207767e",
   "metadata": {},
   "source": [
    "## 03 储存基本类型数据"
   ]
  },
  {
   "cell_type": "code",
   "execution_count": 4,
   "id": "93a64081",
   "metadata": {},
   "outputs": [
    {
     "name": "stdout",
     "output_type": "stream",
     "text": [
      "1\n",
      "Here is a string\n"
     ]
    }
   ],
   "source": [
    "#include <string>\n",
    "\n",
    "//申明并初始化一个整数变量\n",
    "int a = 1 ;\n",
    "\n",
    "//声明并初始化一个字符串变量\n",
    "std::string b ;\n",
    "b = \"Here is a string\" ;\n",
    "\n",
    "cout << a << \"\\n\" ;\n",
    "cout << b << \"\\n\" ;"
   ]
  },
  {
   "cell_type": "markdown",
   "id": "363d2edd",
   "metadata": {},
   "source": [
    "## 04 储存向量（vector）数据"
   ]
  },
  {
   "cell_type": "code",
   "execution_count": 5,
   "id": "29be5406",
   "metadata": {},
   "outputs": [
    {
     "name": "stdout",
     "output_type": "stream",
     "text": [
      "1d initial ok\n",
      "2\n",
      "3\n",
      "7\n",
      "2d initial ok\n",
      "8\n"
     ]
    }
   ],
   "source": [
    "#include <vector>\n",
    "using std::vector ;\n",
    "\n",
    "//声明并初始化一维向量(3种方法）\n",
    "vector<int> v1{0,1,2};\n",
    "vector<int> v2 = {3,4,5};\n",
    "vector<int> v3;\n",
    "v3 = {6,7,8};\n",
    "cout << \"1d initial ok\"<<\"\\n\";\n",
    "cout << v1[2] << \"\\n\";\n",
    "cout << v2[0] << \"\\n\";\n",
    "cout << v3[1] << \"\\n\";\n",
    "\n",
    "//声明并初始化二维向量\n",
    "vector<vector<int>> v2d {{1,2,3},{7,8,9}};\n",
    "cout << \"2d initial ok\" << \"\\n\";\n",
    "cout << v2d[1][1] << \"\\n\";\n"
   ]
  },
  {
   "cell_type": "markdown",
   "id": "8f2c33b2",
   "metadata": {},
   "source": [
    "## 05 使用关键字auto自动确定类型\n",
    "\n",
    "在之前的代码中，显式声明了每个变量的类型。\n",
    "一般来说，这不是必须的，编译器可以根据被赋值的值来确定类型。\n",
    "可以使用 auto 关键字自动确定类型。执行以下单元格来测试："
   ]
  },
  {
   "cell_type": "code",
   "execution_count": 6,
   "id": "a54049b8",
   "metadata": {},
   "outputs": [
    {
     "name": "stdout",
     "output_type": "stream",
     "text": [
      "Variables declared and initialized without explicitly stating type!\n",
      "1 2 3 7 8 9 \n"
     ]
    }
   ],
   "source": [
    "auto i = 5;\n",
    "auto v_6 = {1, 2, 3,7,8,9};\n",
    "cout << \"Variables declared and initialized without explicitly stating type!\" << \"\\n\";\n",
    "\n",
    "for (auto i :v_6){ // i属于向量v_6里的元素\n",
    "    cout << i << \" \";\n",
    "}\n",
    "    cout << \"\\n\";"
   ]
  },
  {
   "cell_type": "markdown",
   "id": "3d03aac5",
   "metadata": {},
   "source": [
    "## 06 使用向量（vector）类型储存网格（grid）数据"
   ]
  },
  {
   "cell_type": "code",
   "execution_count": 7,
   "id": "7431e175",
   "metadata": {},
   "outputs": [],
   "source": [
    "// 声明并初始化一个二维向量类型变量\n",
    "vector<vector<int>> board = {{0,1,0,0,0,0},\n",
    "                            {0,1,0,0,0,0},\n",
    "                            {0,1,0,0,0,0},\n",
    "                            {0,1,0,0,0,0},\n",
    "                            {0,0,0,0,1,0}};"
   ]
  },
  {
   "cell_type": "code",
   "execution_count": 8,
   "id": "b311ef68",
   "metadata": {},
   "outputs": [
    {
     "name": "stdout",
     "output_type": "stream",
     "text": [
      "1\n",
      "7\n",
      "1\n",
      "6\n",
      "5X6\n"
     ]
    },
    {
     "data": {
      "text/plain": [
       "@0x7f2a4d128ba0"
      ]
     },
     "execution_count": 8,
     "metadata": {},
     "output_type": "execute_result"
    }
   ],
   "source": [
    "// 向量基本操作-输出向量元素\n",
    "vector<int> v = {1, 2, 3,7,8,9};\n",
    "cout << v[0] << \"\\n\";\n",
    "cout << v[3] << \"\\n\";\n",
    "cout << board[4][4] << \"\\n\";\n",
    "    \n",
    "// 向量基本操作—输出向量尺寸\n",
    "cout << v.size() << \"\\n\";\n",
    "cout << board.size() << \"X\" << board[0].size() << \"\\n\"; // board.size()取得行row,board[0].size()取得列col\n"
   ]
  },
  {
   "cell_type": "markdown",
   "id": "d88ce5e4",
   "metadata": {},
   "source": [
    "## 07 For循环\n",
    "- 基于索引变量的For循环\n",
    " -- 递增运算符“++”\n",
    " -- 递减运算符“--”\n",
    "- 基于范围容器的For循环"
   ]
  },
  {
   "cell_type": "code",
   "execution_count": 9,
   "id": "3c572b4e",
   "metadata": {},
   "outputs": [
    {
     "name": "stdout",
     "output_type": "stream",
     "text": [
      "The i is :0\n",
      "The i is :1\n",
      "The i is :2\n",
      "The i is :3\n",
      "The i is :4\n",
      "post-increment\n",
      "The value of c is: 1\n",
      "The value of i is: 2\n",
      "pre-increment\n",
      "The value of c is: 2\n",
      "The value of i is: 2\n",
      "decrement\n",
      "The value of i is: 4\n"
     ]
    }
   ],
   "source": [
    "// 基于索引变量的For循环\n",
    "for (int i=0; i<5; i++){\n",
    "    cout << \"The i is :\" << i << \"\\n\";\n",
    "}\n",
    "\n",
    "// 递增运算符“++”（两种方式：后增post-increment和前增pre-increment）\n",
    "// 后增post-increment 先赋值再递增\n",
    "auto i = 1 ;\n",
    "auto c = i++ ;\n",
    "cout << \"post-increment\" << \"\\n\";\n",
    "cout << \"The value of c is: \" << c << \"\\n\";\n",
    "cout << \"The value of i is: \" << i << \"\\n\";\n",
    "\n",
    "// 前增pre-increment 先递增再赋值\n",
    "i = 1 ;\n",
    "c = ++ i ;\n",
    "cout << \"pre-increment\" << \"\\n\";\n",
    "cout << \"The value of c is: \" << c << \"\\n\";\n",
    "cout << \"The value of i is: \" << i << \"\\n\";\n",
    "\n",
    "// 递减运算符“--” 同递增性质\n",
    "i = 5 ;\n",
    "i-- ;\n",
    "cout << \"decrement\" << \"\\n\";\n",
    "cout << \"The value of i is: \" << i << \"\\n\";"
   ]
  },
  {
   "cell_type": "code",
   "execution_count": 10,
   "id": "b54261bc",
   "metadata": {},
   "outputs": [
    {
     "name": "stdout",
     "output_type": "stream",
     "text": [
      "1\n",
      "2\n",
      "3\n",
      "4\n",
      "5\n"
     ]
    }
   ],
   "source": [
    "//基于范围容器的For循环\n",
    "vector<int> a = {1,2,3,4,5};\n",
    "\n",
    "for (int i: a){\n",
    "    cout << i << \"\\n\";\n",
    "}"
   ]
  },
  {
   "cell_type": "markdown",
   "id": "6a74dbe6",
   "metadata": {},
   "source": [
    "## 08 函数\n"
   ]
  },
  {
   "cell_type": "code",
   "execution_count": 11,
   "id": "4728df9a",
   "metadata": {},
   "outputs": [],
   "source": [
    "// 写一个打印字符串函数\n",
    "/*void PrintStrings(string a, string b)\n",
    "{\n",
    "    cout << a << \" \" << b << \"\\n\";\n",
    "}\n",
    "这是一个完整的函数，函数类型void，两个字符串参数，函数执行连续打印两个字符串参数的动作，\n",
    "函数可以一次性声明并定义，但通常需先声明函数，然后再定义函数功能。\n",
    "*/\n",
    "\n",
    "#include <string>\n",
    "using std::string;\n",
    "\n",
    "// 先申明函数\n",
    "void PrintStrings(string a, string b);\n"
   ]
  },
  {
   "cell_type": "code",
   "execution_count": 12,
   "id": "55dadf07",
   "metadata": {},
   "outputs": [
    {
     "name": "stdout",
     "output_type": "stream",
     "text": [
      "C++ is super awesome.\n"
     ]
    }
   ],
   "source": [
    "// 完整定义函数\n",
    "void PrintStrings(string a, string b){\n",
    "    cout << a << \" \" << b << \"\\n\";\n",
    "}\n",
    "\n",
    "// 传入变量值\n",
    "string s1 = \"C++ is\";\n",
    "string s2 = \"super awesome.\";\n",
    "\n",
    "PrintStrings(s1, s2);"
   ]
  },
  {
   "cell_type": "code",
   "execution_count": 13,
   "id": "b8994a7d",
   "metadata": {},
   "outputs": [],
   "source": [
    "// 写一个加法函数\n",
    "// 申明加法函数\n",
    "int AdditionFunction(int i, int j);"
   ]
  },
  {
   "cell_type": "code",
   "execution_count": 14,
   "id": "2efc7c8d",
   "metadata": {},
   "outputs": [
    {
     "name": "stdout",
     "output_type": "stream",
     "text": [
      "10\n"
     ]
    }
   ],
   "source": [
    "// 完整定义加法函数并测试\n",
    "int AdditionFunction(int i, int j){\n",
    "    return i + j ;\n",
    "}\n",
    "\n",
    "auto d = 3 ;\n",
    "auto f = 7 ;\n",
    "\n",
    "cout << AdditionFunction(d, f) << \"\\n\";\n"
   ]
  },
  {
   "cell_type": "code",
   "execution_count": 15,
   "id": "293232e6",
   "metadata": {},
   "outputs": [],
   "source": [
    "// 写一个向量加法函数\n",
    "// 声明向量加法函数\n",
    "int AdditionFunction(vector<int> v);"
   ]
  },
  {
   "cell_type": "code",
   "execution_count": 16,
   "id": "2e73ac36",
   "metadata": {},
   "outputs": [
    {
     "name": "stdout",
     "output_type": "stream",
     "text": [
      "6\n"
     ]
    }
   ],
   "source": [
    "// 完整定义向量加法函数并测试\n",
    "int AdditionFunction(vector<int> v){\n",
    "    int sum = 0 ;\n",
    "    for (int num: v){\n",
    "        sum += num ;\n",
    "    }\n",
    "    return sum ;\n",
    "}\n",
    "\n",
    "vector<int> v {1,2,3};\n",
    "cout << AdditionFunction(v) << \"\\n\";\n"
   ]
  },
  {
   "cell_type": "code",
   "execution_count": 17,
   "id": "729ba95c",
   "metadata": {},
   "outputs": [],
   "source": [
    "// 写一个函数打印出二维向量网格\n",
    "// 声明函数\n",
    "void PrintBoard(vector<vector<int>> board);\n"
   ]
  },
  {
   "cell_type": "code",
   "execution_count": 18,
   "id": "96bc081a",
   "metadata": {},
   "outputs": [
    {
     "name": "stdout",
     "output_type": "stream",
     "text": [
      "010000\n",
      "010000\n",
      "010000\n",
      "010000\n",
      "000010\n"
     ]
    }
   ],
   "source": [
    "// 完整定义函数并测试函数\n",
    "void PrintBoard(vector<vector<int>> board){\n",
    "    int row = board.size();\n",
    "    int col = board[0].size();\n",
    "    \n",
    "    for(int i=0; i<row; i++){\n",
    "        for(int j=0; j<col; j++)\n",
    "            cout << board[i][j];\n",
    "            cout << \"\\n\";\n",
    "    }\n",
    "}\n",
    "\n",
    "vector<vector<int>> board{{0, 1, 0, 0, 0, 0},\n",
    "                          {0, 1, 0, 0, 0, 0},\n",
    "                          {0, 1, 0, 0, 0, 0},\n",
    "                          {0, 1, 0, 0, 0, 0},\n",
    "                          {0, 0, 0, 0, 1, 0}};\n",
    "\n",
    "PrintBoard(board);\n"
   ]
  },
  {
   "cell_type": "markdown",
   "id": "4e5dbfe5-2de1-4c5d-a3cf-d9ff86f333ab",
   "metadata": {},
   "source": [
    "## 09 If条件判断和While循环\n"
   ]
  },
  {
   "cell_type": "code",
   "execution_count": 19,
   "id": "4913d0d2-4797-4276-80cd-9eac6777819b",
   "metadata": {},
   "outputs": [
    {
     "name": "stdout",
     "output_type": "stream",
     "text": [
      "Hooray! You made it into the if statement!\n"
     ]
    }
   ],
   "source": [
    "// 在 C++ 中，布尔条件包含在括号 ( ) 中，语句主体包含在大括号 { } 中。\n",
    "\n",
    "bool a= true ;\n",
    "\n",
    "if (a) {\n",
    "    cout << \"Hooray! You made it into the if statement!\" << \"\\n\" ;\n",
    "}"
   ]
  },
  {
   "cell_type": "code",
   "execution_count": 20,
   "id": "c0414d05-606d-4d87-bbfe-2d9eef32bd46",
   "metadata": {},
   "outputs": [
    {
     "name": "stdout",
     "output_type": "stream",
     "text": [
      "0\n",
      "1\n",
      "2\n",
      "3\n",
      "4\n"
     ]
    }
   ],
   "source": [
    "// while 循环的语法与 if 语句的语法非常相似\n",
    "\n",
    "auto i = 0;\n",
    "\n",
    "while (i < 5 ) {\n",
    "    cout << i << \"\\n\";\n",
    "    i++;\n",
    "}"
   ]
  },
  {
   "cell_type": "code",
   "execution_count": 21,
   "id": "2a507b44-153c-47ef-8b2d-476b1e3c81fc",
   "metadata": {},
   "outputs": [
    {
     "name": "stdout",
     "output_type": "stream",
     "text": [
      "2\n",
      "4\n",
      "6\n",
      "8\n",
      "10\n"
     ]
    }
   ],
   "source": [
    "// while 循环和if 语句搭配使用打印偶数。\n",
    "// 对于给定的 int i，i % 2取余数，如果结果为0则i为偶数。\n",
    "\n",
    "int i = 1;\n",
    "\n",
    "while (i <=10 ){\n",
    "    if (i % 2 == 0){\n",
    "        cout << i << \"\\n\";\n",
    "    }\n",
    "    i++ ;\n",
    "}"
   ]
  },
  {
   "cell_type": "markdown",
   "id": "b453bbd4-1a19-4ee3-b377-e5c35436d143",
   "metadata": {},
   "source": [
    "## 10 文件读取\n",
    "\n",
    "读取文件的四个步骤：\n",
    "\n",
    "- 1.#include <fstream>\n",
    "- 2.使用文件路径创建一个 std::ifstream 流对象。\n",
    "- 3.将 std::ifstream 对象评估为 bool 以确保流对象创建成功。\n",
    "- 4.使用带有 getline（） 的 while 循环将文件行写入字符串。"
   ]
  },
  {
   "cell_type": "code",
   "execution_count": 22,
   "id": "7f66b2f8-5bfd-4e1c-be59-a3a1dfd39d38",
   "metadata": {},
   "outputs": [],
   "source": [
    "// 添加文件处理库\n",
    "#include <fstream>"
   ]
  },
  {
   "cell_type": "code",
   "execution_count": 23,
   "id": "a7b16781-8b37-4a69-a014-412824da6c45",
   "metadata": {},
   "outputs": [],
   "source": [
    "// 声明文件打开测试函数\n",
    "void file_open_testing();"
   ]
  },
  {
   "cell_type": "code",
   "execution_count": 24,
   "id": "bcddb45a-b5eb-484a-babd-e2851bc89623",
   "metadata": {},
   "outputs": [
    {
     "name": "stdout",
     "output_type": "stream",
     "text": [
      "we have this file\n"
     ]
    }
   ],
   "source": [
    "// 定义完整函数并测试\n",
    "void file_open_testing(){\n",
    "    // 创建std::ifstream流对象\n",
    "    std::fstream my_file;\n",
    "    my_file.open(\"files/1.board\");\n",
    "    \n",
    "    if (my_file){\n",
    "        cout << \"we have this file\" << \"\\n\";\n",
    "    }else{\n",
    "        cout << \"we don't have this file\" << \"\\n\";\n",
    "    }\n",
    "}\n",
    "\n",
    "file_open_testing();\n"
   ]
  },
  {
   "cell_type": "code",
   "execution_count": 25,
   "id": "34a9d802-82d3-4324-bf25-b7584548af43",
   "metadata": {},
   "outputs": [],
   "source": [
    "// 声明读数据函数\n",
    "void reading_data_from_stream();"
   ]
  },
  {
   "cell_type": "code",
   "execution_count": 26,
   "id": "ff7aa47d-0dfe-4b71-b568-a5d53e8354e9",
   "metadata": {},
   "outputs": [
    {
     "name": "stdout",
     "output_type": "stream",
     "text": [
      "The file stream has been created!\n",
      "0,1,0,0,0,0,\n",
      "0,1,0,0,0,0,\n",
      "0,1,0,0,0,0,\n",
      "0,1,0,0,0,0,\n",
      "0,0,0,0,1,0,\n"
     ]
    }
   ],
   "source": [
    "// 定义读数据函数并测试\n",
    "void reading_data_from_stream(){\n",
    "    std::fstream my_file(\"./files/1.board\");\n",
    "    \n",
    "    if (my_file) {\n",
    "        cout << \"The file stream has been created!\" << \"\\n\";\n",
    "        \n",
    "        std::string line;\n",
    "        while (getline(my_file, line)){\n",
    "            cout << line << \"\\n\";\n",
    "        }\n",
    "    }\n",
    "}\n",
    "\n",
    "reading_data_from_stream();"
   ]
  },
  {
   "cell_type": "code",
   "execution_count": 30,
   "id": "0b4c0c8f-959e-4925-af1f-3f7c56b3f2d7",
   "metadata": {},
   "outputs": [],
   "source": [
    "//使用更好的方式重写读取board文件\n",
    "// 声明函数\n",
    "void ReadBoardFile(string file_path);\n"
   ]
  },
  {
   "cell_type": "code",
   "execution_count": 31,
   "id": "97d23fce-0375-4986-b74a-926c2335983e",
   "metadata": {},
   "outputs": [],
   "source": [
    "// 先初始化变量file_path\n",
    "string file_path = \" \" ;"
   ]
  },
  {
   "cell_type": "code",
   "execution_count": 33,
   "id": "2848cff8-7597-4136-8d49-6a1698e58ec1",
   "metadata": {},
   "outputs": [
    {
     "name": "stdout",
     "output_type": "stream",
     "text": [
      "0,1,0,0,0,0,\n",
      "0,1,0,0,0,0,\n",
      "0,1,0,0,0,0,\n",
      "0,1,0,0,0,0,\n",
      "0,0,0,0,1,0,\n"
     ]
    }
   ],
   "source": [
    "// 定义完整函数并测试\n",
    "void ReadBoardFile(string file_path){\n",
    "    std::fstream board_file(file_path) ;\n",
    "    \n",
    "    if (board_file){\n",
    "        \n",
    "        string line;\n",
    "        while (getline(board_file, line)){\n",
    "            cout << line << \"\\n\";\n",
    "        }\n",
    "    }else{\n",
    "        cout << \"no such file \" << file_path << \"\\n\" ;\n",
    "    }\n",
    "}\n",
    "\n",
    "string file_path = \"./files/1.board\";\n",
    "ReadBoardFile(file_path);\n"
   ]
  },
  {
   "cell_type": "code",
   "execution_count": null,
   "id": "f492d3de-8107-477b-bb79-b81326ef91b7",
   "metadata": {},
   "outputs": [],
   "source": []
  },
  {
   "cell_type": "code",
   "execution_count": null,
   "id": "efc6c6f5-834e-4d7a-9702-13b691e1d7f3",
   "metadata": {},
   "outputs": [],
   "source": []
  },
  {
   "cell_type": "code",
   "execution_count": null,
   "id": "6bda61ca-0348-40e9-8c28-be817eb96a1a",
   "metadata": {},
   "outputs": [],
   "source": []
  },
  {
   "cell_type": "code",
   "execution_count": null,
   "id": "29cf8548-6a48-4037-9e83-daa66d89efb5",
   "metadata": {},
   "outputs": [],
   "source": []
  },
  {
   "cell_type": "code",
   "execution_count": null,
   "id": "a97919e1",
   "metadata": {},
   "outputs": [],
   "source": []
  }
 ],
 "metadata": {
  "kernelspec": {
   "display_name": "C++14",
   "language": "C++14",
   "name": "xcpp14"
  },
  "language_info": {
   "codemirror_mode": "text/x-c++src",
   "file_extension": ".cpp",
   "mimetype": "text/x-c++src",
   "name": "c++",
   "version": "14"
  }
 },
 "nbformat": 4,
 "nbformat_minor": 5
}
